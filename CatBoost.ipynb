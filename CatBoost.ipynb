{
  "nbformat": 4,
  "nbformat_minor": 0,
  "metadata": {
    "colab": {
      "provenance": [],
      "authorship_tag": "ABX9TyN0d/UXUhTN+jJw4EjyBmGf",
      "include_colab_link": true
    },
    "kernelspec": {
      "name": "python3",
      "display_name": "Python 3"
    },
    "language_info": {
      "name": "python"
    }
  },
  "cells": [
    {
      "cell_type": "markdown",
      "metadata": {
        "id": "view-in-github",
        "colab_type": "text"
      },
      "source": [
        "<a href=\"https://colab.research.google.com/github/CasiCode/Market-Value-Regression/blob/main/CatBoost.ipynb\" target=\"_parent\"><img src=\"https://colab.research.google.com/assets/colab-badge.svg\" alt=\"Open In Colab\"/></a>"
      ]
    },
    {
      "cell_type": "markdown",
      "source": [
        "Рассмотрим задачу регрессии рыночной стоимости футболистов. Она интересна очень несбалансированным распределением таргета - футболисты стоят от 100 тысяч евро до 200 миллионов, и средних по цене намного больше. Это создает толстые хвосты слева и справа у распределения таргет-фичи."
      ],
      "metadata": {
        "id": "RE_dXaytS07L"
      }
    },
    {
      "cell_type": "markdown",
      "source": [
        "Устанавливаем и импортируем все нужные инструменты:"
      ],
      "metadata": {
        "id": "HC_AI3D8Tux3"
      }
    },
    {
      "cell_type": "code",
      "source": [
        "%pip install catboost"
      ],
      "metadata": {
        "colab": {
          "base_uri": "https://localhost:8080/"
        },
        "id": "n4c9_9lTHXPR",
        "outputId": "0fd9b8a9-89bf-4ef3-beb8-fd48e57ef326",
        "collapsed": true
      },
      "execution_count": 1,
      "outputs": [
        {
          "output_type": "stream",
          "name": "stdout",
          "text": [
            "Collecting catboost\n",
            "  Using cached catboost-1.2.7-cp311-cp311-manylinux2014_x86_64.whl.metadata (1.2 kB)\n",
            "Requirement already satisfied: graphviz in /usr/local/lib/python3.11/dist-packages (from catboost) (0.20.3)\n",
            "Requirement already satisfied: matplotlib in /usr/local/lib/python3.11/dist-packages (from catboost) (3.10.0)\n",
            "Requirement already satisfied: numpy<2.0,>=1.16.0 in /usr/local/lib/python3.11/dist-packages (from catboost) (1.26.4)\n",
            "Requirement already satisfied: pandas>=0.24 in /usr/local/lib/python3.11/dist-packages (from catboost) (2.2.2)\n",
            "Requirement already satisfied: scipy in /usr/local/lib/python3.11/dist-packages (from catboost) (1.14.1)\n",
            "Requirement already satisfied: plotly in /usr/local/lib/python3.11/dist-packages (from catboost) (5.24.1)\n",
            "Requirement already satisfied: six in /usr/local/lib/python3.11/dist-packages (from catboost) (1.17.0)\n",
            "Requirement already satisfied: python-dateutil>=2.8.2 in /usr/local/lib/python3.11/dist-packages (from pandas>=0.24->catboost) (2.8.2)\n",
            "Requirement already satisfied: pytz>=2020.1 in /usr/local/lib/python3.11/dist-packages (from pandas>=0.24->catboost) (2025.2)\n",
            "Requirement already satisfied: tzdata>=2022.7 in /usr/local/lib/python3.11/dist-packages (from pandas>=0.24->catboost) (2025.2)\n",
            "Requirement already satisfied: contourpy>=1.0.1 in /usr/local/lib/python3.11/dist-packages (from matplotlib->catboost) (1.3.1)\n",
            "Requirement already satisfied: cycler>=0.10 in /usr/local/lib/python3.11/dist-packages (from matplotlib->catboost) (0.12.1)\n",
            "Requirement already satisfied: fonttools>=4.22.0 in /usr/local/lib/python3.11/dist-packages (from matplotlib->catboost) (4.57.0)\n",
            "Requirement already satisfied: kiwisolver>=1.3.1 in /usr/local/lib/python3.11/dist-packages (from matplotlib->catboost) (1.4.8)\n",
            "Requirement already satisfied: packaging>=20.0 in /usr/local/lib/python3.11/dist-packages (from matplotlib->catboost) (24.2)\n",
            "Requirement already satisfied: pillow>=8 in /usr/local/lib/python3.11/dist-packages (from matplotlib->catboost) (11.1.0)\n",
            "Requirement already satisfied: pyparsing>=2.3.1 in /usr/local/lib/python3.11/dist-packages (from matplotlib->catboost) (3.2.3)\n",
            "Requirement already satisfied: tenacity>=6.2.0 in /usr/local/lib/python3.11/dist-packages (from plotly->catboost) (9.1.2)\n",
            "Using cached catboost-1.2.7-cp311-cp311-manylinux2014_x86_64.whl (98.7 MB)\n",
            "Installing collected packages: catboost\n",
            "Successfully installed catboost-1.2.7\n"
          ]
        }
      ]
    },
    {
      "cell_type": "code",
      "source": [
        "%pip install category-encoders"
      ],
      "metadata": {
        "colab": {
          "base_uri": "https://localhost:8080/"
        },
        "id": "_SP9Kx35FgNW",
        "outputId": "17458c17-6a98-438e-f3e7-da477252d904"
      },
      "execution_count": 2,
      "outputs": [
        {
          "output_type": "stream",
          "name": "stdout",
          "text": [
            "Collecting category-encoders\n",
            "  Downloading category_encoders-2.8.1-py3-none-any.whl.metadata (7.9 kB)\n",
            "Requirement already satisfied: numpy>=1.14.0 in /usr/local/lib/python3.11/dist-packages (from category-encoders) (1.26.4)\n",
            "Requirement already satisfied: pandas>=1.0.5 in /usr/local/lib/python3.11/dist-packages (from category-encoders) (2.2.2)\n",
            "Requirement already satisfied: patsy>=0.5.1 in /usr/local/lib/python3.11/dist-packages (from category-encoders) (1.0.1)\n",
            "Requirement already satisfied: scikit-learn>=1.6.0 in /usr/local/lib/python3.11/dist-packages (from category-encoders) (1.6.1)\n",
            "Requirement already satisfied: scipy>=1.0.0 in /usr/local/lib/python3.11/dist-packages (from category-encoders) (1.14.1)\n",
            "Requirement already satisfied: statsmodels>=0.9.0 in /usr/local/lib/python3.11/dist-packages (from category-encoders) (0.14.4)\n",
            "Requirement already satisfied: python-dateutil>=2.8.2 in /usr/local/lib/python3.11/dist-packages (from pandas>=1.0.5->category-encoders) (2.8.2)\n",
            "Requirement already satisfied: pytz>=2020.1 in /usr/local/lib/python3.11/dist-packages (from pandas>=1.0.5->category-encoders) (2025.2)\n",
            "Requirement already satisfied: tzdata>=2022.7 in /usr/local/lib/python3.11/dist-packages (from pandas>=1.0.5->category-encoders) (2025.2)\n",
            "Requirement already satisfied: joblib>=1.2.0 in /usr/local/lib/python3.11/dist-packages (from scikit-learn>=1.6.0->category-encoders) (1.4.2)\n",
            "Requirement already satisfied: threadpoolctl>=3.1.0 in /usr/local/lib/python3.11/dist-packages (from scikit-learn>=1.6.0->category-encoders) (3.6.0)\n",
            "Requirement already satisfied: packaging>=21.3 in /usr/local/lib/python3.11/dist-packages (from statsmodels>=0.9.0->category-encoders) (24.2)\n",
            "Requirement already satisfied: six>=1.5 in /usr/local/lib/python3.11/dist-packages (from python-dateutil>=2.8.2->pandas>=1.0.5->category-encoders) (1.17.0)\n",
            "Downloading category_encoders-2.8.1-py3-none-any.whl (85 kB)\n",
            "\u001b[2K   \u001b[90m━━━━━━━━━━━━━━━━━━━━━━━━━━━━━━━━━━━━━━━━\u001b[0m \u001b[32m85.7/85.7 kB\u001b[0m \u001b[31m2.1 MB/s\u001b[0m eta \u001b[36m0:00:00\u001b[0m\n",
            "\u001b[?25hInstalling collected packages: category-encoders\n",
            "Successfully installed category-encoders-2.8.1\n"
          ]
        }
      ]
    },
    {
      "cell_type": "code",
      "execution_count": 3,
      "metadata": {
        "id": "_1oJON9-GgtC",
        "collapsed": true
      },
      "outputs": [],
      "source": [
        "import kagglehub"
      ]
    },
    {
      "cell_type": "code",
      "source": [
        "import numpy as np"
      ],
      "metadata": {
        "id": "n26OenocGuY2"
      },
      "execution_count": 4,
      "outputs": []
    },
    {
      "cell_type": "code",
      "source": [
        "import pandas as pd\n",
        "import seaborn as sns\n",
        "import matplotlib.pyplot as plt\n",
        "\n",
        "from datetime import datetime\n",
        "import os\n",
        "\n",
        "from sklearn.model_selection import StratifiedKFold\n",
        "from sklearn.model_selection import train_test_split\n",
        "from sklearn.metrics import mean_absolute_percentage_error\n",
        "from sklearn.metrics import mean_squared_log_error\n",
        "from sklearn.metrics import mean_absolute_error\n",
        "\n",
        "import catboost as cb"
      ],
      "metadata": {
        "id": "nNioJTotG-N4"
      },
      "execution_count": 5,
      "outputs": []
    },
    {
      "cell_type": "markdown",
      "source": [
        "Читаем интересующие нас CSV в датафреймы:"
      ],
      "metadata": {
        "id": "8FEuj__xUeO_"
      }
    },
    {
      "cell_type": "code",
      "source": [
        "path = kagglehub.dataset_download(\"davidcariboo/player-scores\")\n",
        "\n",
        "games = pd.read_csv(f\"{path}/games.csv\")\n",
        "appearances = pd.read_csv(f\"{path}/appearances.csv\")\n",
        "players = pd.read_csv(f\"{path}/players.csv\")"
      ],
      "metadata": {
        "id": "vxUg51CRH9oI"
      },
      "execution_count": 7,
      "outputs": []
    },
    {
      "cell_type": "markdown",
      "source": [
        "Удалим игроков без рыночной стоимости:"
      ],
      "metadata": {
        "id": "C-mLVyFQUlIf"
      }
    },
    {
      "cell_type": "code",
      "source": [
        "players = players[players.market_value_in_eur.isnull() == False]"
      ],
      "metadata": {
        "id": "PfjF7bMGI5nX"
      },
      "execution_count": 8,
      "outputs": []
    },
    {
      "cell_type": "markdown",
      "source": [
        "Замерджим датафреймы игр и появлений игроков в них, чтобы потом удобно доставать оттуда статистику игроков по всем сезонам в сумме и выбранному нами отдельному сезону в частности. Это мы делаем функцией player_stats"
      ],
      "metadata": {
        "id": "7bYNG4MiUqjq"
      }
    },
    {
      "cell_type": "code",
      "source": [
        "games_and_aps = appearances.merge(games, on=[\"game_id\"], how=\"left\")\n",
        "\n",
        "def player_stats(season, df):\n",
        "    df = df.copy()\n",
        "\n",
        "    is_home = df['home_club_id'] == df['player_club_id']\n",
        "    is_away = df['away_club_id'] == df['player_club_id']\n",
        "\n",
        "    df[\"goals_for\"] = np.where(is_home, df['home_club_goals'],\n",
        "                               np.where(is_away, df['away_club_goals'], np.nan))\n",
        "\n",
        "    df[\"goals_against\"] = np.where(is_home, df['away_club_goals'],\n",
        "                               np.where(is_away, df['home_club_goals'], np.nan))\n",
        "\n",
        "    df[\"clean_sheet\"] = (df['goals_against'] == 0).astype(float)\n",
        "\n",
        "    df_all = df.groupby(['player_id'], as_index=False).agg({\n",
        "        'goals': 'sum',\n",
        "        'game_id': 'nunique',\n",
        "        'assists': 'sum',\n",
        "        'minutes_played': 'sum',\n",
        "        'goals_for': 'sum',\n",
        "        'goals_against': 'sum',\n",
        "        'clean_sheet': 'sum'\n",
        "    }).rename(columns={\n",
        "        'game_id': 'games',\n",
        "        'goals': 'goals_total',\n",
        "        'assists': 'assists_total',\n",
        "        'minutes_played': 'minutes_played_total',\n",
        "        'goals_for': 'goals_for_total',\n",
        "        'goals_against': 'goals_against_total',\n",
        "        'clean_sheet': 'clean_sheet_total'\n",
        "    })\n",
        "\n",
        "    df_season = df[df['season'] == season].groupby(['player_id'], as_index=False).agg({\n",
        "        'goals': 'sum',\n",
        "        'game_id': 'nunique',\n",
        "        'assists': 'sum',\n",
        "        'minutes_played': 'sum',\n",
        "        'goals_for': 'sum',\n",
        "        'goals_against': 'sum',\n",
        "        'clean_sheet': 'sum'\n",
        "    })\n",
        "\n",
        "    df_season = df_season.add_suffix(f'_{season}')\n",
        "    df_season = df_season.rename(columns={\n",
        "        f'player_id_{season}': 'player_id',\n",
        "        f'game_id_{season}': f'games_{season}'\n",
        "    })\n",
        "\n",
        "    stats = df_all.merge(df_season, on='player_id', how='left')\n",
        "    stats.fillna(0, inplace=True)\n",
        "\n",
        "    return stats"
      ],
      "metadata": {
        "id": "AGgwbES4J9-k"
      },
      "execution_count": 9,
      "outputs": []
    },
    {
      "cell_type": "markdown",
      "source": [
        "Берем статистику за сезон 2023 года, дальше будем работать с ней."
      ],
      "metadata": {
        "id": "Ul0EfKMwU-pD"
      }
    },
    {
      "cell_type": "code",
      "source": [
        "season = 2023\n",
        "stats = player_stats(season, games_and_aps)\n",
        "\n",
        "players = players.merge(stats, on='player_id', how='left')"
      ],
      "metadata": {
        "collapsed": true,
        "id": "u3twdnCRNPJ3"
      },
      "execution_count": 10,
      "outputs": []
    },
    {
      "cell_type": "markdown",
      "source": [
        "Чуть-чуть feature-engineering'a. Создаем новые признаки: возраст игрока по дате рождения, количество дней до истечения контракта по соответствующей дате."
      ],
      "metadata": {
        "id": "vxsj96qsVOhS"
      }
    },
    {
      "cell_type": "code",
      "source": [
        "# Calculate the age of each player\n",
        "players['date_of_birth'] = pd.to_datetime(players['date_of_birth'])\n",
        "# drop players with no date of birth (2 records only)\n",
        "players = players[players['date_of_birth'].isnull() == False]\n",
        "now = datetime.now()\n",
        "players['age'] = (now - players['date_of_birth']).apply(lambda x: x.days) / 365.25\n",
        "players['age'] = players['age'].round().astype(int)\n",
        "\n",
        "# Calculate the days before contract expiration date\n",
        "players['contract_expiration_date'] = pd.to_datetime(players['contract_expiration_date'], errors='coerce')\n",
        "# drop players without contracts\n",
        "now = pd.Timestamp.now()\n",
        "players['days_to_expire'] = (players['contract_expiration_date'] - now).dt.days\n",
        "players['days_to_expire'] = players['days_to_expire'].clip(lower=0).fillna(0).astype(int)\n",
        "#players['contract_expiration_date'] = np.abs((now - players['contract_expiration_date']).apply(lambda x: x.days))\n",
        "#players['contract_expiration_date'].fillna((players['contract_expiration_date'].mean()), inplace=True)\n",
        "#players['contract_expiration_date'] = players['contract_expiration_date'].round().astype(int)"
      ],
      "metadata": {
        "id": "St1kh8sAYcwo",
        "collapsed": true
      },
      "execution_count": 11,
      "outputs": []
    },
    {
      "cell_type": "code",
      "source": [
        "players.shape"
      ],
      "metadata": {
        "colab": {
          "base_uri": "https://localhost:8080/"
        },
        "id": "Gu1kWtQvYnfm",
        "outputId": "98a1143e-abd3-48b0-85b1-1e882b38bc5c"
      },
      "execution_count": 12,
      "outputs": [
        {
          "output_type": "execute_result",
          "data": {
            "text/plain": [
              "(31046, 39)"
            ]
          },
          "metadata": {},
          "execution_count": 12
        }
      ]
    },
    {
      "cell_type": "code",
      "source": [
        "list(players)"
      ],
      "metadata": {
        "colab": {
          "base_uri": "https://localhost:8080/"
        },
        "id": "mpf2G_YJaUX0",
        "outputId": "f1cd3388-866e-4c1c-fb93-422e0bdf9605"
      },
      "execution_count": 13,
      "outputs": [
        {
          "output_type": "execute_result",
          "data": {
            "text/plain": [
              "['player_id',\n",
              " 'first_name',\n",
              " 'last_name',\n",
              " 'name',\n",
              " 'last_season',\n",
              " 'current_club_id',\n",
              " 'player_code',\n",
              " 'country_of_birth',\n",
              " 'city_of_birth',\n",
              " 'country_of_citizenship',\n",
              " 'date_of_birth',\n",
              " 'sub_position',\n",
              " 'position',\n",
              " 'foot',\n",
              " 'height_in_cm',\n",
              " 'contract_expiration_date',\n",
              " 'agent_name',\n",
              " 'image_url',\n",
              " 'url',\n",
              " 'current_club_domestic_competition_id',\n",
              " 'current_club_name',\n",
              " 'market_value_in_eur',\n",
              " 'highest_market_value_in_eur',\n",
              " 'goals_total',\n",
              " 'games',\n",
              " 'assists_total',\n",
              " 'minutes_played_total',\n",
              " 'goals_for_total',\n",
              " 'goals_against_total',\n",
              " 'clean_sheet_total',\n",
              " 'goals_2023',\n",
              " 'games_2023',\n",
              " 'assists_2023',\n",
              " 'minutes_played_2023',\n",
              " 'goals_for_2023',\n",
              " 'goals_against_2023',\n",
              " 'clean_sheet_2023',\n",
              " 'age',\n",
              " 'days_to_expire']"
            ]
          },
          "metadata": {},
          "execution_count": 13
        }
      ]
    },
    {
      "cell_type": "markdown",
      "source": [
        "Дропаем айдишники, имена, информацию о последнем сезоне - это чистый шум в датасете, создающий лишние зависимости. Имя клуба удалим, оставив только его ID. Очевидно, удалим фичу максимальной рыночной стоимости. Удалим url-фичи, они никак не помогут в задаче регресии. Дропнем фичу имени агента, подпозиции игрока на поле и города рождения - у них слишком много уникальных значений и не сильное влияние на таргет."
      ],
      "metadata": {
        "id": "Nq1hphsTVi8b"
      }
    },
    {
      "cell_type": "code",
      "source": [
        "players = players.drop(columns=['player_id', 'first_name', 'last_name', 'name', 'last_season',\n",
        "                      'player_code', 'city_of_birth', 'contract_expiration_date',\n",
        "                      'date_of_birth', 'agent_name', 'sub_position', 'image_url', 'url',\n",
        "                      'current_club_name', 'highest_market_value_in_eur'])"
      ],
      "metadata": {
        "id": "ObrMj-U5cAYU"
      },
      "execution_count": 14,
      "outputs": []
    },
    {
      "cell_type": "code",
      "source": [
        "players = players.rename(columns={\n",
        "    'current_club_domestic_competition_id': 'domestic_competition_id',\n",
        "    #'contract_expiration_date': 'days_to_expire'\n",
        "    })"
      ],
      "metadata": {
        "id": "7gwAb12xhSSM"
      },
      "execution_count": 15,
      "outputs": []
    },
    {
      "cell_type": "code",
      "source": [
        "pd.set_option('display.max_columns', 500)\n",
        "players.head()"
      ],
      "metadata": {
        "colab": {
          "base_uri": "https://localhost:8080/",
          "height": 244
        },
        "id": "9t8dTer8hSRI",
        "outputId": "891f407a-be9a-4466-8e73-060f7ab93f8a"
      },
      "execution_count": 16,
      "outputs": [
        {
          "output_type": "execute_result",
          "data": {
            "text/plain": [
              "   current_club_id    country_of_birth country_of_citizenship    position  \\\n",
              "0              398              Poland                Germany      Attack   \n",
              "1               16             Germany                Germany  Goalkeeper   \n",
              "2             1091            Bulgaria               Bulgaria      Attack   \n",
              "3              506              Brazil                 Brazil    Defender   \n",
              "4               27  East Germany (GDR)                Germany  Goalkeeper   \n",
              "\n",
              "    foot  height_in_cm domestic_competition_id  market_value_in_eur  \\\n",
              "0  right         184.0                     IT1            1000000.0   \n",
              "1   left         190.0                      L1             750000.0   \n",
              "2    NaN           NaN                     GR1            1000000.0   \n",
              "3    NaN           NaN                     IT1             200000.0   \n",
              "4  right         194.0                      L1             100000.0   \n",
              "\n",
              "   goals_total  games  assists_total  minutes_played_total  goals_for_total  \\\n",
              "0         48.0  136.0           25.0                8808.0            212.0   \n",
              "1          0.0  152.0            0.0               13508.0            324.0   \n",
              "2         38.0  122.0           13.0                8788.0            140.0   \n",
              "3          0.0    4.0            0.0                 307.0             11.0   \n",
              "4          0.0   12.0            0.0                1080.0             31.0   \n",
              "\n",
              "   goals_against_total  clean_sheet_total  goals_2023  games_2023  \\\n",
              "0                153.0               50.0         0.0         0.0   \n",
              "1                189.0               41.0         0.0         0.0   \n",
              "2                145.0               41.0         0.0         0.0   \n",
              "3                  3.0                2.0         0.0         0.0   \n",
              "4                 12.0                8.0         0.0         0.0   \n",
              "\n",
              "   assists_2023  minutes_played_2023  goals_for_2023  goals_against_2023  \\\n",
              "0           0.0                  0.0             0.0                 0.0   \n",
              "1           0.0                  0.0             0.0                 0.0   \n",
              "2           0.0                  0.0             0.0                 0.0   \n",
              "3           0.0                  0.0             0.0                 0.0   \n",
              "4           0.0                  0.0             0.0                 0.0   \n",
              "\n",
              "   clean_sheet_2023  age  days_to_expire  \n",
              "0               0.0   47               0  \n",
              "1               0.0   45               0  \n",
              "2               0.0   44               0  \n",
              "3               0.0   47               0  \n",
              "4               0.0   44               0  "
            ],
            "text/html": [
              "\n",
              "  <div id=\"df-7ea4a6dc-dc90-4041-8511-abd677a6b8ed\" class=\"colab-df-container\">\n",
              "    <div>\n",
              "<style scoped>\n",
              "    .dataframe tbody tr th:only-of-type {\n",
              "        vertical-align: middle;\n",
              "    }\n",
              "\n",
              "    .dataframe tbody tr th {\n",
              "        vertical-align: top;\n",
              "    }\n",
              "\n",
              "    .dataframe thead th {\n",
              "        text-align: right;\n",
              "    }\n",
              "</style>\n",
              "<table border=\"1\" class=\"dataframe\">\n",
              "  <thead>\n",
              "    <tr style=\"text-align: right;\">\n",
              "      <th></th>\n",
              "      <th>current_club_id</th>\n",
              "      <th>country_of_birth</th>\n",
              "      <th>country_of_citizenship</th>\n",
              "      <th>position</th>\n",
              "      <th>foot</th>\n",
              "      <th>height_in_cm</th>\n",
              "      <th>domestic_competition_id</th>\n",
              "      <th>market_value_in_eur</th>\n",
              "      <th>goals_total</th>\n",
              "      <th>games</th>\n",
              "      <th>assists_total</th>\n",
              "      <th>minutes_played_total</th>\n",
              "      <th>goals_for_total</th>\n",
              "      <th>goals_against_total</th>\n",
              "      <th>clean_sheet_total</th>\n",
              "      <th>goals_2023</th>\n",
              "      <th>games_2023</th>\n",
              "      <th>assists_2023</th>\n",
              "      <th>minutes_played_2023</th>\n",
              "      <th>goals_for_2023</th>\n",
              "      <th>goals_against_2023</th>\n",
              "      <th>clean_sheet_2023</th>\n",
              "      <th>age</th>\n",
              "      <th>days_to_expire</th>\n",
              "    </tr>\n",
              "  </thead>\n",
              "  <tbody>\n",
              "    <tr>\n",
              "      <th>0</th>\n",
              "      <td>398</td>\n",
              "      <td>Poland</td>\n",
              "      <td>Germany</td>\n",
              "      <td>Attack</td>\n",
              "      <td>right</td>\n",
              "      <td>184.0</td>\n",
              "      <td>IT1</td>\n",
              "      <td>1000000.0</td>\n",
              "      <td>48.0</td>\n",
              "      <td>136.0</td>\n",
              "      <td>25.0</td>\n",
              "      <td>8808.0</td>\n",
              "      <td>212.0</td>\n",
              "      <td>153.0</td>\n",
              "      <td>50.0</td>\n",
              "      <td>0.0</td>\n",
              "      <td>0.0</td>\n",
              "      <td>0.0</td>\n",
              "      <td>0.0</td>\n",
              "      <td>0.0</td>\n",
              "      <td>0.0</td>\n",
              "      <td>0.0</td>\n",
              "      <td>47</td>\n",
              "      <td>0</td>\n",
              "    </tr>\n",
              "    <tr>\n",
              "      <th>1</th>\n",
              "      <td>16</td>\n",
              "      <td>Germany</td>\n",
              "      <td>Germany</td>\n",
              "      <td>Goalkeeper</td>\n",
              "      <td>left</td>\n",
              "      <td>190.0</td>\n",
              "      <td>L1</td>\n",
              "      <td>750000.0</td>\n",
              "      <td>0.0</td>\n",
              "      <td>152.0</td>\n",
              "      <td>0.0</td>\n",
              "      <td>13508.0</td>\n",
              "      <td>324.0</td>\n",
              "      <td>189.0</td>\n",
              "      <td>41.0</td>\n",
              "      <td>0.0</td>\n",
              "      <td>0.0</td>\n",
              "      <td>0.0</td>\n",
              "      <td>0.0</td>\n",
              "      <td>0.0</td>\n",
              "      <td>0.0</td>\n",
              "      <td>0.0</td>\n",
              "      <td>45</td>\n",
              "      <td>0</td>\n",
              "    </tr>\n",
              "    <tr>\n",
              "      <th>2</th>\n",
              "      <td>1091</td>\n",
              "      <td>Bulgaria</td>\n",
              "      <td>Bulgaria</td>\n",
              "      <td>Attack</td>\n",
              "      <td>NaN</td>\n",
              "      <td>NaN</td>\n",
              "      <td>GR1</td>\n",
              "      <td>1000000.0</td>\n",
              "      <td>38.0</td>\n",
              "      <td>122.0</td>\n",
              "      <td>13.0</td>\n",
              "      <td>8788.0</td>\n",
              "      <td>140.0</td>\n",
              "      <td>145.0</td>\n",
              "      <td>41.0</td>\n",
              "      <td>0.0</td>\n",
              "      <td>0.0</td>\n",
              "      <td>0.0</td>\n",
              "      <td>0.0</td>\n",
              "      <td>0.0</td>\n",
              "      <td>0.0</td>\n",
              "      <td>0.0</td>\n",
              "      <td>44</td>\n",
              "      <td>0</td>\n",
              "    </tr>\n",
              "    <tr>\n",
              "      <th>3</th>\n",
              "      <td>506</td>\n",
              "      <td>Brazil</td>\n",
              "      <td>Brazil</td>\n",
              "      <td>Defender</td>\n",
              "      <td>NaN</td>\n",
              "      <td>NaN</td>\n",
              "      <td>IT1</td>\n",
              "      <td>200000.0</td>\n",
              "      <td>0.0</td>\n",
              "      <td>4.0</td>\n",
              "      <td>0.0</td>\n",
              "      <td>307.0</td>\n",
              "      <td>11.0</td>\n",
              "      <td>3.0</td>\n",
              "      <td>2.0</td>\n",
              "      <td>0.0</td>\n",
              "      <td>0.0</td>\n",
              "      <td>0.0</td>\n",
              "      <td>0.0</td>\n",
              "      <td>0.0</td>\n",
              "      <td>0.0</td>\n",
              "      <td>0.0</td>\n",
              "      <td>47</td>\n",
              "      <td>0</td>\n",
              "    </tr>\n",
              "    <tr>\n",
              "      <th>4</th>\n",
              "      <td>27</td>\n",
              "      <td>East Germany (GDR)</td>\n",
              "      <td>Germany</td>\n",
              "      <td>Goalkeeper</td>\n",
              "      <td>right</td>\n",
              "      <td>194.0</td>\n",
              "      <td>L1</td>\n",
              "      <td>100000.0</td>\n",
              "      <td>0.0</td>\n",
              "      <td>12.0</td>\n",
              "      <td>0.0</td>\n",
              "      <td>1080.0</td>\n",
              "      <td>31.0</td>\n",
              "      <td>12.0</td>\n",
              "      <td>8.0</td>\n",
              "      <td>0.0</td>\n",
              "      <td>0.0</td>\n",
              "      <td>0.0</td>\n",
              "      <td>0.0</td>\n",
              "      <td>0.0</td>\n",
              "      <td>0.0</td>\n",
              "      <td>0.0</td>\n",
              "      <td>44</td>\n",
              "      <td>0</td>\n",
              "    </tr>\n",
              "  </tbody>\n",
              "</table>\n",
              "</div>\n",
              "    <div class=\"colab-df-buttons\">\n",
              "\n",
              "  <div class=\"colab-df-container\">\n",
              "    <button class=\"colab-df-convert\" onclick=\"convertToInteractive('df-7ea4a6dc-dc90-4041-8511-abd677a6b8ed')\"\n",
              "            title=\"Convert this dataframe to an interactive table.\"\n",
              "            style=\"display:none;\">\n",
              "\n",
              "  <svg xmlns=\"http://www.w3.org/2000/svg\" height=\"24px\" viewBox=\"0 -960 960 960\">\n",
              "    <path d=\"M120-120v-720h720v720H120Zm60-500h600v-160H180v160Zm220 220h160v-160H400v160Zm0 220h160v-160H400v160ZM180-400h160v-160H180v160Zm440 0h160v-160H620v160ZM180-180h160v-160H180v160Zm440 0h160v-160H620v160Z\"/>\n",
              "  </svg>\n",
              "    </button>\n",
              "\n",
              "  <style>\n",
              "    .colab-df-container {\n",
              "      display:flex;\n",
              "      gap: 12px;\n",
              "    }\n",
              "\n",
              "    .colab-df-convert {\n",
              "      background-color: #E8F0FE;\n",
              "      border: none;\n",
              "      border-radius: 50%;\n",
              "      cursor: pointer;\n",
              "      display: none;\n",
              "      fill: #1967D2;\n",
              "      height: 32px;\n",
              "      padding: 0 0 0 0;\n",
              "      width: 32px;\n",
              "    }\n",
              "\n",
              "    .colab-df-convert:hover {\n",
              "      background-color: #E2EBFA;\n",
              "      box-shadow: 0px 1px 2px rgba(60, 64, 67, 0.3), 0px 1px 3px 1px rgba(60, 64, 67, 0.15);\n",
              "      fill: #174EA6;\n",
              "    }\n",
              "\n",
              "    .colab-df-buttons div {\n",
              "      margin-bottom: 4px;\n",
              "    }\n",
              "\n",
              "    [theme=dark] .colab-df-convert {\n",
              "      background-color: #3B4455;\n",
              "      fill: #D2E3FC;\n",
              "    }\n",
              "\n",
              "    [theme=dark] .colab-df-convert:hover {\n",
              "      background-color: #434B5C;\n",
              "      box-shadow: 0px 1px 3px 1px rgba(0, 0, 0, 0.15);\n",
              "      filter: drop-shadow(0px 1px 2px rgba(0, 0, 0, 0.3));\n",
              "      fill: #FFFFFF;\n",
              "    }\n",
              "  </style>\n",
              "\n",
              "    <script>\n",
              "      const buttonEl =\n",
              "        document.querySelector('#df-7ea4a6dc-dc90-4041-8511-abd677a6b8ed button.colab-df-convert');\n",
              "      buttonEl.style.display =\n",
              "        google.colab.kernel.accessAllowed ? 'block' : 'none';\n",
              "\n",
              "      async function convertToInteractive(key) {\n",
              "        const element = document.querySelector('#df-7ea4a6dc-dc90-4041-8511-abd677a6b8ed');\n",
              "        const dataTable =\n",
              "          await google.colab.kernel.invokeFunction('convertToInteractive',\n",
              "                                                    [key], {});\n",
              "        if (!dataTable) return;\n",
              "\n",
              "        const docLinkHtml = 'Like what you see? Visit the ' +\n",
              "          '<a target=\"_blank\" href=https://colab.research.google.com/notebooks/data_table.ipynb>data table notebook</a>'\n",
              "          + ' to learn more about interactive tables.';\n",
              "        element.innerHTML = '';\n",
              "        dataTable['output_type'] = 'display_data';\n",
              "        await google.colab.output.renderOutput(dataTable, element);\n",
              "        const docLink = document.createElement('div');\n",
              "        docLink.innerHTML = docLinkHtml;\n",
              "        element.appendChild(docLink);\n",
              "      }\n",
              "    </script>\n",
              "  </div>\n",
              "\n",
              "\n",
              "<div id=\"df-ab847ee7-e09c-4ada-94e9-f865fd945381\">\n",
              "  <button class=\"colab-df-quickchart\" onclick=\"quickchart('df-ab847ee7-e09c-4ada-94e9-f865fd945381')\"\n",
              "            title=\"Suggest charts\"\n",
              "            style=\"display:none;\">\n",
              "\n",
              "<svg xmlns=\"http://www.w3.org/2000/svg\" height=\"24px\"viewBox=\"0 0 24 24\"\n",
              "     width=\"24px\">\n",
              "    <g>\n",
              "        <path d=\"M19 3H5c-1.1 0-2 .9-2 2v14c0 1.1.9 2 2 2h14c1.1 0 2-.9 2-2V5c0-1.1-.9-2-2-2zM9 17H7v-7h2v7zm4 0h-2V7h2v10zm4 0h-2v-4h2v4z\"/>\n",
              "    </g>\n",
              "</svg>\n",
              "  </button>\n",
              "\n",
              "<style>\n",
              "  .colab-df-quickchart {\n",
              "      --bg-color: #E8F0FE;\n",
              "      --fill-color: #1967D2;\n",
              "      --hover-bg-color: #E2EBFA;\n",
              "      --hover-fill-color: #174EA6;\n",
              "      --disabled-fill-color: #AAA;\n",
              "      --disabled-bg-color: #DDD;\n",
              "  }\n",
              "\n",
              "  [theme=dark] .colab-df-quickchart {\n",
              "      --bg-color: #3B4455;\n",
              "      --fill-color: #D2E3FC;\n",
              "      --hover-bg-color: #434B5C;\n",
              "      --hover-fill-color: #FFFFFF;\n",
              "      --disabled-bg-color: #3B4455;\n",
              "      --disabled-fill-color: #666;\n",
              "  }\n",
              "\n",
              "  .colab-df-quickchart {\n",
              "    background-color: var(--bg-color);\n",
              "    border: none;\n",
              "    border-radius: 50%;\n",
              "    cursor: pointer;\n",
              "    display: none;\n",
              "    fill: var(--fill-color);\n",
              "    height: 32px;\n",
              "    padding: 0;\n",
              "    width: 32px;\n",
              "  }\n",
              "\n",
              "  .colab-df-quickchart:hover {\n",
              "    background-color: var(--hover-bg-color);\n",
              "    box-shadow: 0 1px 2px rgba(60, 64, 67, 0.3), 0 1px 3px 1px rgba(60, 64, 67, 0.15);\n",
              "    fill: var(--button-hover-fill-color);\n",
              "  }\n",
              "\n",
              "  .colab-df-quickchart-complete:disabled,\n",
              "  .colab-df-quickchart-complete:disabled:hover {\n",
              "    background-color: var(--disabled-bg-color);\n",
              "    fill: var(--disabled-fill-color);\n",
              "    box-shadow: none;\n",
              "  }\n",
              "\n",
              "  .colab-df-spinner {\n",
              "    border: 2px solid var(--fill-color);\n",
              "    border-color: transparent;\n",
              "    border-bottom-color: var(--fill-color);\n",
              "    animation:\n",
              "      spin 1s steps(1) infinite;\n",
              "  }\n",
              "\n",
              "  @keyframes spin {\n",
              "    0% {\n",
              "      border-color: transparent;\n",
              "      border-bottom-color: var(--fill-color);\n",
              "      border-left-color: var(--fill-color);\n",
              "    }\n",
              "    20% {\n",
              "      border-color: transparent;\n",
              "      border-left-color: var(--fill-color);\n",
              "      border-top-color: var(--fill-color);\n",
              "    }\n",
              "    30% {\n",
              "      border-color: transparent;\n",
              "      border-left-color: var(--fill-color);\n",
              "      border-top-color: var(--fill-color);\n",
              "      border-right-color: var(--fill-color);\n",
              "    }\n",
              "    40% {\n",
              "      border-color: transparent;\n",
              "      border-right-color: var(--fill-color);\n",
              "      border-top-color: var(--fill-color);\n",
              "    }\n",
              "    60% {\n",
              "      border-color: transparent;\n",
              "      border-right-color: var(--fill-color);\n",
              "    }\n",
              "    80% {\n",
              "      border-color: transparent;\n",
              "      border-right-color: var(--fill-color);\n",
              "      border-bottom-color: var(--fill-color);\n",
              "    }\n",
              "    90% {\n",
              "      border-color: transparent;\n",
              "      border-bottom-color: var(--fill-color);\n",
              "    }\n",
              "  }\n",
              "</style>\n",
              "\n",
              "  <script>\n",
              "    async function quickchart(key) {\n",
              "      const quickchartButtonEl =\n",
              "        document.querySelector('#' + key + ' button');\n",
              "      quickchartButtonEl.disabled = true;  // To prevent multiple clicks.\n",
              "      quickchartButtonEl.classList.add('colab-df-spinner');\n",
              "      try {\n",
              "        const charts = await google.colab.kernel.invokeFunction(\n",
              "            'suggestCharts', [key], {});\n",
              "      } catch (error) {\n",
              "        console.error('Error during call to suggestCharts:', error);\n",
              "      }\n",
              "      quickchartButtonEl.classList.remove('colab-df-spinner');\n",
              "      quickchartButtonEl.classList.add('colab-df-quickchart-complete');\n",
              "    }\n",
              "    (() => {\n",
              "      let quickchartButtonEl =\n",
              "        document.querySelector('#df-ab847ee7-e09c-4ada-94e9-f865fd945381 button');\n",
              "      quickchartButtonEl.style.display =\n",
              "        google.colab.kernel.accessAllowed ? 'block' : 'none';\n",
              "    })();\n",
              "  </script>\n",
              "</div>\n",
              "    </div>\n",
              "  </div>\n"
            ],
            "application/vnd.google.colaboratory.intrinsic+json": {
              "type": "dataframe",
              "variable_name": "players"
            }
          },
          "metadata": {},
          "execution_count": 16
        }
      ]
    },
    {
      "cell_type": "code",
      "source": [
        "players.shape"
      ],
      "metadata": {
        "colab": {
          "base_uri": "https://localhost:8080/"
        },
        "id": "dXqzMGjclviA",
        "outputId": "04834e33-64a5-4819-bcca-d1d57bc88ffb"
      },
      "execution_count": 17,
      "outputs": [
        {
          "output_type": "execute_result",
          "data": {
            "text/plain": [
              "(31046, 24)"
            ]
          },
          "metadata": {},
          "execution_count": 17
        }
      ]
    },
    {
      "cell_type": "code",
      "source": [
        "grouped = players.loc[:, ['domestic_competition_id', 'market_value_in_eur']] \\\n",
        "    .groupby(['domestic_competition_id']) \\\n",
        "    .median() \\\n",
        "    .sort_values(by='market_value_in_eur', ascending=False)\n",
        "\n",
        "sns.set(rc={'figure.figsize':(10,6)})\n",
        "sns.boxplot(x=players.domestic_competition_id, y=players.market_value_in_eur, order=grouped.index)"
      ],
      "metadata": {
        "id": "eWbckFXFlvg5",
        "colab": {
          "base_uri": "https://localhost:8080/",
          "height": 584
        },
        "outputId": "19ae57d8-ab35-44de-a4cf-e00b3ee8ef5d"
      },
      "execution_count": 18,
      "outputs": [
        {
          "output_type": "execute_result",
          "data": {
            "text/plain": [
              "<Axes: xlabel='domestic_competition_id', ylabel='market_value_in_eur'>"
            ]
          },
          "metadata": {},
          "execution_count": 18
        },
        {
          "output_type": "display_data",
          "data": {
            "text/plain": [
              "<Figure size 1000x600 with 1 Axes>"
            ],
            "image/png": "[encoded data removed]"
          },
          "metadata": {}
        }
      ]
    },
    {
      "cell_type": "code",
      "source": [
        "grouped = players.loc[:, ['position', 'market_value_in_eur']] \\\n",
        "    .groupby(['position']) \\\n",
        "    .median() \\\n",
        "    .sort_values(by='market_value_in_eur', ascending=False)\n",
        "\n",
        "sns.set(rc={'figure.figsize':(10,6)})\n",
        "plt.ylim(0, 40000000)\n",
        "sns.boxplot(x=players.position, y=players.market_value_in_eur, order=grouped.index)"
      ],
      "metadata": {
        "colab": {
          "base_uri": "https://localhost:8080/",
          "height": 583
        },
        "id": "Wjw8vzUXMfzA",
        "outputId": "2013e5c8-854a-45da-f5cd-4496417c472f"
      },
      "execution_count": 19,
      "outputs": [
        {
          "output_type": "execute_result",
          "data": {
            "text/plain": [
              "<Axes: xlabel='position', ylabel='market_value_in_eur'>"
            ]
          },
          "metadata": {},
          "execution_count": 19
        },
        {
          "output_type": "display_data",
          "data": {
            "text/plain": [
              "<Figure size 1000x600 with 1 Axes>"
            ],
            "image/png": "[encoded data removed]"
          },
          "metadata": {}
        }
      ]
    },
    {
      "cell_type": "markdown",
      "source": [
        "По графикам выше видно, что для всех лиг и позиций в выборке есть чудовищное количество выбросов."
      ],
      "metadata": {
        "id": "p_T5Cu2yWTdf"
      }
    },
    {
      "cell_type": "code",
      "source": [
        "plt.title('Age')\n",
        "sns.histplot(x='age', data=players, binwidth=1)\n",
        "plt.show()\n",
        "\n",
        "print(\"Mean player age : \", players['age'].mean())\n",
        "print(\"Median player age : \", players['age'].median())\n",
        "\n",
        "high_value_players = players[players['market_value_in_eur']>50000000]\n",
        "plt.title(\"Age (>50m euro market Value)\")\n",
        "sns.histplot(x='age',data=high_value_players, binwidth=1)\n",
        "plt.show()\n",
        "\n",
        "print(\"Mean player age (High value) : \", high_value_players['age'].mean())\n",
        "print(\"Median player age (High value) : \", high_value_players['age'].median())"
      ],
      "metadata": {
        "colab": {
          "base_uri": "https://localhost:8080/",
          "height": 1000
        },
        "id": "nB7qHy6cNpXW",
        "outputId": "1ae38429-f104-4c93-a39f-75809eca922c"
      },
      "execution_count": 20,
      "outputs": [
        {
          "output_type": "display_data",
          "data": {
            "text/plain": [
              "<Figure size 1000x600 with 1 Axes>"
            ],
            "image/png": "[encoded data removed]"
          },
          "metadata": {}
        },
        {
          "output_type": "stream",
          "name": "stdout",
          "text": [
            "Mean player age :  30.530019970366553\n",
            "Median player age :  30.0\n"
          ]
        },
        {
          "output_type": "display_data",
          "data": {
            "text/plain": [
              "<Figure size 1000x600 with 1 Axes>"
            ],
            "image/png": "[encoded data removed]"
          },
          "metadata": {}
        },
        {
          "output_type": "stream",
          "name": "stdout",
          "text": [
            "Mean player age (High value) :  24.625\n",
            "Median player age (High value) :  25.0\n"
          ]
        }
      ]
    },
    {
      "cell_type": "markdown",
      "source": [
        "Видим, что возраст сильно влияет на цену игрока."
      ],
      "metadata": {
        "id": "kJH-iQoGWra1"
      }
    },
    {
      "cell_type": "markdown",
      "source": [
        "One-hot-энкодим позицию игрока на поле (4 уникальных значения) и ведущую ногу игрока."
      ],
      "metadata": {
        "id": "iXcUpmv-WxgP"
      }
    },
    {
      "cell_type": "code",
      "source": [
        "players = pd.get_dummies(players, columns=['position'])\n",
        "players = pd.get_dummies(players, columns=['foot'])"
      ],
      "metadata": {
        "id": "sIdW2dIwMe2h"
      },
      "execution_count": 21,
      "outputs": []
    },
    {
      "cell_type": "markdown",
      "source": [
        "Убираем лишний шум, группируя непопулярные страны в категорию Other. Разделяем датасет на обучающую и тестовую выборки. Квантилями срубаем самые края хвостов - они негативно влияют на результаты регрессии в силу особенностей распределения."
      ],
      "metadata": {
        "id": "RThIU74kXNld"
      }
    },
    {
      "cell_type": "markdown",
      "source": [
        "Кроме того, логарифмируем цену игрока. Этот трюк мы проделываем, чтобы уменьшить дисперсию фичи и тем самым уточнить предсказание. В конце будем экспоненцировать предсказания, чтобы получить их в той же мере - евро"
      ],
      "metadata": {
        "id": "sbO8pkrZX5S4"
      }
    },
    {
      "cell_type": "code",
      "source": [
        "top_n = 30\n",
        "for col in ['country_of_citizenship', 'country_of_birth']:\n",
        "    top_categories = players[col].value_counts().nlargest(top_n).index\n",
        "    players[col] = players[col].where(players[col].isin(top_categories), 'Other')\n",
        "\n",
        "train, test = train_test_split(players, test_size=0.2, random_state=50)\n",
        "\n",
        "q_hi = train['market_value_in_eur'].quantile(0.99)\n",
        "q_lo = train['market_value_in_eur'].quantile(0.01)\n",
        "train = train[(train['market_value_in_eur'] >= q_lo) & (train['market_value_in_eur'] <= q_hi)]\n",
        "\n",
        "train['market_value_in_eur'] = np.log1p(train['market_value_in_eur'])\n",
        "\n",
        "targets = train['market_value_in_eur'].values"
      ],
      "metadata": {
        "collapsed": true,
        "id": "MSRX9sgWW-OW"
      },
      "execution_count": 22,
      "outputs": []
    },
    {
      "cell_type": "markdown",
      "source": [
        "Разделяем обучающую выборку на бины по цене игрока. Делаем разбиение для кросс-валидации. Учим"
      ],
      "metadata": {
        "id": "NYblrmJBXjVo"
      }
    },
    {
      "cell_type": "code",
      "source": [
        "bins = pd.qcut(train['market_value_in_eur'], q=5, labels=False)\n",
        "cv = StratifiedKFold(n_splits=5, random_state=100, shuffle=True)\n",
        "trained = np.zeros(len(train))\n",
        "oof = np.zeros(len(train))\n",
        "\n",
        "for fold_, (train_idx, val_idx) in enumerate(cv.split(train, bins), 1):\n",
        "    print(f'Training with fold {fold_} started')\n",
        "\n",
        "    cat_features = ['current_club_id', 'domestic_competition_id', 'country_of_citizenship', 'country_of_birth']\n",
        "\n",
        "    model = cb.CatBoostRegressor(\n",
        "      iterations=1000,\n",
        "      learning_rate=0.05,\n",
        "      depth=8,\n",
        "      eval_metric='RMSE',\n",
        "      cat_features=cat_features,\n",
        "      verbose=100)\n",
        "\n",
        "    train_, val = train.iloc[train_idx].copy(), train.iloc[val_idx].copy()\n",
        "\n",
        "    feat_cols = list(train.columns.values)\n",
        "    feat_cols.remove('market_value_in_eur')\n",
        "\n",
        "    model.fit(train[feat_cols], train['market_value_in_eur'],\n",
        "          eval_set=(val[feat_cols], val['market_value_in_eur']),\n",
        "          early_stopping_rounds=50)\n",
        "\n",
        "    trained[train_idx] = model.predict(train_[feat_cols])\n",
        "\n",
        "    oof[val_idx] = model.predict(val[feat_cols])\n",
        "\n",
        "true = np.expm1(targets)\n",
        "pred = np.expm1(trained)\n",
        "pred_oof = np.expm1(oof)\n",
        "\n",
        "rmsle = mean_squared_log_error(true, pred) ** 0.5\n",
        "rmsle_oof = mean_squared_log_error(true, pred_oof) ** 0.5\n",
        "\n",
        "print('Train MAE: ', mean_absolute_error(true, pred))\n",
        "print('CV MAE: ', mean_absolute_error(true, pred_oof), '\\n')\n",
        "print('Train MAPE: ', mean_absolute_percentage_error(true, pred))\n",
        "print('CV MAPE: ', mean_absolute_percentage_error(true, pred_oof), '\\n')\n",
        "print('TRAIN RMSLE: ', rmsle)\n",
        "print('CV RMSLE: ', rmsle_oof)\n",
        "\n",
        "val_df = pd.DataFrame({\n",
        "    'true': true,\n",
        "    'pred': pred_oof\n",
        "})\n",
        "\n",
        "\n",
        "val_df['quantile'] = pd.qcut(val_df['true'], q=5)\n",
        "\n",
        "for q, group in val_df.groupby('quantile'):\n",
        "    print(f\"\\n{q}:\")\n",
        "    print(\"  MAE: \", mean_absolute_error(group['true'], group['pred']))\n",
        "    print(\"  MAPE:\", mean_absolute_percentage_error(group['true'], group['pred']))"
      ],
      "metadata": {
        "colab": {
          "base_uri": "https://localhost:8080/"
        },
        "id": "6qmrPjG3SFln",
        "outputId": "491664dd-cdb0-43fe-8836-fb73cf0cb130"
      },
      "execution_count": 24,
      "outputs": [
        {
          "output_type": "stream",
          "name": "stdout",
          "text": [
            "Training with fold 1 started\n",
            "0:\tlearn: 1.4269168\ttest: 1.4229985\tbest: 1.4229985 (0)\ttotal: 126ms\tremaining: 2m 5s\n",
            "100:\tlearn: 0.7822948\ttest: 0.7754802\tbest: 0.7754802 (100)\ttotal: 4.53s\tremaining: 40.3s\n",
            "200:\tlearn: 0.7470448\ttest: 0.7444886\tbest: 0.7444886 (200)\ttotal: 9.99s\tremaining: 39.7s\n",
            "300:\tlearn: 0.7205486\ttest: 0.7217704\tbest: 0.7217704 (300)\ttotal: 14.3s\tremaining: 33.3s\n",
            "400:\tlearn: 0.7009560\ttest: 0.7066177\tbest: 0.7066177 (400)\ttotal: 18.8s\tremaining: 28.1s\n",
            "500:\tlearn: 0.6853949\ttest: 0.6946348\tbest: 0.6946348 (500)\ttotal: 24.1s\tremaining: 24s\n",
            "600:\tlearn: 0.6707128\ttest: 0.6832250\tbest: 0.6832233 (599)\ttotal: 28.3s\tremaining: 18.8s\n",
            "700:\tlearn: 0.6580811\ttest: 0.6733716\tbest: 0.6733716 (700)\ttotal: 33.9s\tremaining: 14.5s\n",
            "800:\tlearn: 0.6474968\ttest: 0.6654476\tbest: 0.6654476 (800)\ttotal: 38.2s\tremaining: 9.5s\n",
            "900:\tlearn: 0.6369254\ttest: 0.6578498\tbest: 0.6578498 (900)\ttotal: 42.6s\tremaining: 4.68s\n",
            "999:\tlearn: 0.6275063\ttest: 0.6510610\tbest: 0.6510610 (999)\ttotal: 48.1s\tremaining: 0us\n",
            "\n",
            "bestTest = 0.6510610313\n",
            "bestIteration = 999\n",
            "\n",
            "Training with fold 2 started\n",
            "0:\tlearn: 1.4269168\ttest: 1.4208749\tbest: 1.4208749 (0)\ttotal: 46.8ms\tremaining: 46.7s\n",
            "100:\tlearn: 0.7822948\ttest: 0.7853272\tbest: 0.7853272 (100)\ttotal: 4.36s\tremaining: 38.8s\n",
            "200:\tlearn: 0.7470448\ttest: 0.7544186\tbest: 0.7544186 (200)\ttotal: 9.66s\tremaining: 38.4s\n",
            "300:\tlearn: 0.7205486\ttest: 0.7301906\tbest: 0.7301906 (300)\ttotal: 14.1s\tremaining: 32.8s\n",
            "400:\tlearn: 0.7009560\ttest: 0.7135751\tbest: 0.7135751 (400)\ttotal: 18.4s\tremaining: 27.4s\n",
            "500:\tlearn: 0.6853949\ttest: 0.7003611\tbest: 0.7003611 (500)\ttotal: 24s\tremaining: 23.9s\n",
            "600:\tlearn: 0.6707128\ttest: 0.6878227\tbest: 0.6878227 (600)\ttotal: 28.3s\tremaining: 18.8s\n",
            "700:\tlearn: 0.6580811\ttest: 0.6773059\tbest: 0.6773059 (700)\ttotal: 32.7s\tremaining: 14s\n",
            "800:\tlearn: 0.6474968\ttest: 0.6690567\tbest: 0.6690567 (800)\ttotal: 38.2s\tremaining: 9.5s\n",
            "900:\tlearn: 0.6369254\ttest: 0.6611475\tbest: 0.6611475 (900)\ttotal: 42.6s\tremaining: 4.68s\n",
            "999:\tlearn: 0.6275063\ttest: 0.6535622\tbest: 0.6535622 (999)\ttotal: 48.2s\tremaining: 0us\n",
            "\n",
            "bestTest = 0.6535621813\n",
            "bestIteration = 999\n",
            "\n",
            "Training with fold 3 started\n",
            "0:\tlearn: 1.4269168\ttest: 1.4168199\tbest: 1.4168199 (0)\ttotal: 45.5ms\tremaining: 45.5s\n",
            "100:\tlearn: 0.7822948\ttest: 0.7788066\tbest: 0.7788066 (100)\ttotal: 5.11s\tremaining: 45.5s\n",
            "200:\tlearn: 0.7470448\ttest: 0.7462222\tbest: 0.7462222 (200)\ttotal: 9.51s\tremaining: 37.8s\n",
            "300:\tlearn: 0.7205486\ttest: 0.7225204\tbest: 0.7225204 (300)\ttotal: 14.9s\tremaining: 34.5s\n",
            "400:\tlearn: 0.7009560\ttest: 0.7067510\tbest: 0.7067510 (400)\ttotal: 19.1s\tremaining: 28.6s\n",
            "500:\tlearn: 0.6853949\ttest: 0.6939405\tbest: 0.6939405 (500)\ttotal: 24.7s\tremaining: 24.6s\n",
            "600:\tlearn: 0.6707128\ttest: 0.6823023\tbest: 0.6823023 (600)\ttotal: 29s\tremaining: 19.2s\n",
            "700:\tlearn: 0.6580811\ttest: 0.6719224\tbest: 0.6719224 (700)\ttotal: 33.3s\tremaining: 14.2s\n",
            "800:\tlearn: 0.6474968\ttest: 0.6637593\tbest: 0.6637593 (800)\ttotal: 38.9s\tremaining: 9.67s\n",
            "900:\tlearn: 0.6369254\ttest: 0.6561629\tbest: 0.6561629 (900)\ttotal: 43.3s\tremaining: 4.75s\n",
            "999:\tlearn: 0.6275063\ttest: 0.6487004\tbest: 0.6487004 (999)\ttotal: 48.4s\tremaining: 0us\n",
            "\n",
            "bestTest = 0.6487003616\n",
            "bestIteration = 999\n",
            "\n",
            "Training with fold 4 started\n",
            "0:\tlearn: 1.4269168\ttest: 1.4474620\tbest: 1.4474620 (0)\ttotal: 114ms\tremaining: 1m 54s\n",
            "100:\tlearn: 0.7822948\ttest: 0.7675877\tbest: 0.7675877 (100)\ttotal: 4.51s\tremaining: 40.1s\n",
            "200:\tlearn: 0.7470448\ttest: 0.7349848\tbest: 0.7349848 (200)\ttotal: 8.63s\tremaining: 34.3s\n",
            "300:\tlearn: 0.7205486\ttest: 0.7120410\tbest: 0.7120410 (300)\ttotal: 14.2s\tremaining: 33s\n",
            "400:\tlearn: 0.7009560\ttest: 0.6960740\tbest: 0.6960740 (400)\ttotal: 18.4s\tremaining: 27.5s\n",
            "500:\tlearn: 0.6853949\ttest: 0.6841643\tbest: 0.6841643 (500)\ttotal: 22.7s\tremaining: 22.6s\n",
            "600:\tlearn: 0.6707128\ttest: 0.6725856\tbest: 0.6725856 (600)\ttotal: 28.2s\tremaining: 18.7s\n",
            "700:\tlearn: 0.6580811\ttest: 0.6628458\tbest: 0.6628458 (700)\ttotal: 32.6s\tremaining: 13.9s\n",
            "800:\tlearn: 0.6474968\ttest: 0.6548891\tbest: 0.6548891 (800)\ttotal: 38.2s\tremaining: 9.48s\n",
            "900:\tlearn: 0.6369254\ttest: 0.6471710\tbest: 0.6471710 (900)\ttotal: 42.5s\tremaining: 4.67s\n",
            "999:\tlearn: 0.6275063\ttest: 0.6401003\tbest: 0.6401003 (999)\ttotal: 46.8s\tremaining: 0us\n",
            "\n",
            "bestTest = 0.6401002597\n",
            "bestIteration = 999\n",
            "\n",
            "Training with fold 5 started\n",
            "0:\tlearn: 1.4269168\ttest: 1.4260626\tbest: 1.4260626 (0)\ttotal: 48.8ms\tremaining: 48.7s\n",
            "100:\tlearn: 0.7822948\ttest: 0.7671822\tbest: 0.7671822 (100)\ttotal: 5.66s\tremaining: 50.4s\n",
            "200:\tlearn: 0.7470448\ttest: 0.7333436\tbest: 0.7333436 (200)\ttotal: 9.78s\tremaining: 38.9s\n",
            "300:\tlearn: 0.7205486\ttest: 0.7092598\tbest: 0.7092598 (300)\ttotal: 15.1s\tremaining: 35.1s\n",
            "400:\tlearn: 0.7009560\ttest: 0.6943207\tbest: 0.6943207 (400)\ttotal: 19.6s\tremaining: 29.3s\n",
            "500:\tlearn: 0.6853949\ttest: 0.6820826\tbest: 0.6820826 (500)\ttotal: 23.9s\tremaining: 23.8s\n",
            "600:\tlearn: 0.6707128\ttest: 0.6707758\tbest: 0.6707758 (600)\ttotal: 29.5s\tremaining: 19.6s\n",
            "700:\tlearn: 0.6580811\ttest: 0.6606007\tbest: 0.6606007 (700)\ttotal: 33.8s\tremaining: 14.4s\n",
            "800:\tlearn: 0.6474968\ttest: 0.6524926\tbest: 0.6524926 (800)\ttotal: 38.1s\tremaining: 9.46s\n",
            "900:\tlearn: 0.6369254\ttest: 0.6447147\tbest: 0.6447147 (900)\ttotal: 43.7s\tremaining: 4.8s\n",
            "999:\tlearn: 0.6275063\ttest: 0.6374915\tbest: 0.6374915 (999)\ttotal: 48s\tremaining: 0us\n",
            "\n",
            "bestTest = 0.6374915144\n",
            "bestIteration = 999\n",
            "\n",
            "Train MAE:  433420.6098992189\n",
            "CV MAE:  433420.6098992189 \n",
            "\n",
            "Train MAPE:  0.5730059247313041\n",
            "CV MAPE:  0.5730059247313041 \n",
            "\n",
            "TRAIN RMSLE:  0.6462135878537892\n",
            "CV RMSLE:  0.6462135878537892\n",
            "\n",
            "(24999.999, 100000.0]:\n",
            "  MAE:  54117.64534454605\n",
            "  MAPE: 1.0331407975511107\n",
            "\n",
            "(100000.0, 200000.0]:\n",
            "  MAE:  64044.10511801301\n",
            "  MAPE: 0.37579107518941884\n",
            "\n",
            "(200000.0, 300000.0]:\n",
            "  MAE:  103809.30936047103\n",
            "  MAPE: 0.37900268778912166\n",
            "\n",
            "(300000.0, 900000.0]:\n",
            "  MAE:  233664.6639203298\n",
            "  MAPE: 0.4250439409779262\n",
            "\n",
            "(900000.0, 30000000.0]:\n",
            "  MAE:  1761300.0414694045\n",
            "  MAPE: 0.4049943692853366\n"
          ]
        },
        {
          "output_type": "stream",
          "name": "stderr",
          "text": [
            "<ipython-input-24-8dd64c170e08>:54: FutureWarning: The default of observed=False is deprecated and will be changed to True in a future version of pandas. Pass observed=False to retain current behavior or observed=True to adopt the future default and silence this warning.\n",
            "  for q, group in val_df.groupby('quantile'):\n"
          ]
        }
      ]
    }
  ]
}