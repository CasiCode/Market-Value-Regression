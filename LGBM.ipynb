{
  "nbformat": 4,
  "nbformat_minor": 0,
  "metadata": {
    "colab": {
      "provenance": [],
      "authorship_tag": "ABX9TyPv3F957EvNKf67cd1lKHGp",
      "include_colab_link": true
    },
    "kernelspec": {
      "name": "python3",
      "display_name": "Python 3"
    },
    "language_info": {
      "name": "python"
    }
  },
  "cells": [
    {
      "cell_type": "markdown",
      "metadata": {
        "id": "view-in-github",
        "colab_type": "text"
      },
      "source": [
        "<a href=\"https://colab.research.google.com/github/CasiCode/Market-Value-Regression/blob/main/LGBM.ipynb\" target=\"_parent\"><img src=\"https://colab.research.google.com/assets/colab-badge.svg\" alt=\"Open In Colab\"/></a>"
      ]
    },
    {
      "cell_type": "markdown",
      "source": [
        "EDA и комментарии о предобработке данных доступны в версии блокнота с CatBoost. Этот блокнот в свою очередь ориентирован чисто на построение альтернативной модели с использованием LGBM."
      ],
      "metadata": {
        "id": "LqHGuwkcaeub"
      }
    },
    {
      "cell_type": "code",
      "source": [
        "%pip install category-encoders"
      ],
      "metadata": {
        "colab": {
          "base_uri": "https://localhost:8080/"
        },
        "id": "_SP9Kx35FgNW",
        "outputId": "b76e3517-db10-4b1e-d227-e02ba808f5b4"
      },
      "execution_count": 1,
      "outputs": [
        {
          "output_type": "stream",
          "name": "stdout",
          "text": [
            "Collecting category-encoders\n",
            "  Downloading category_encoders-2.8.1-py3-none-any.whl.metadata (7.9 kB)\n",
            "Requirement already satisfied: numpy>=1.14.0 in /usr/local/lib/python3.11/dist-packages (from category-encoders) (2.0.2)\n",
            "Requirement already satisfied: pandas>=1.0.5 in /usr/local/lib/python3.11/dist-packages (from category-encoders) (2.2.2)\n",
            "Requirement already satisfied: patsy>=0.5.1 in /usr/local/lib/python3.11/dist-packages (from category-encoders) (1.0.1)\n",
            "Requirement already satisfied: scikit-learn>=1.6.0 in /usr/local/lib/python3.11/dist-packages (from category-encoders) (1.6.1)\n",
            "Requirement already satisfied: scipy>=1.0.0 in /usr/local/lib/python3.11/dist-packages (from category-encoders) (1.14.1)\n",
            "Requirement already satisfied: statsmodels>=0.9.0 in /usr/local/lib/python3.11/dist-packages (from category-encoders) (0.14.4)\n",
            "Requirement already satisfied: python-dateutil>=2.8.2 in /usr/local/lib/python3.11/dist-packages (from pandas>=1.0.5->category-encoders) (2.8.2)\n",
            "Requirement already satisfied: pytz>=2020.1 in /usr/local/lib/python3.11/dist-packages (from pandas>=1.0.5->category-encoders) (2025.2)\n",
            "Requirement already satisfied: tzdata>=2022.7 in /usr/local/lib/python3.11/dist-packages (from pandas>=1.0.5->category-encoders) (2025.2)\n",
            "Requirement already satisfied: joblib>=1.2.0 in /usr/local/lib/python3.11/dist-packages (from scikit-learn>=1.6.0->category-encoders) (1.4.2)\n",
            "Requirement already satisfied: threadpoolctl>=3.1.0 in /usr/local/lib/python3.11/dist-packages (from scikit-learn>=1.6.0->category-encoders) (3.6.0)\n",
            "Requirement already satisfied: packaging>=21.3 in /usr/local/lib/python3.11/dist-packages (from statsmodels>=0.9.0->category-encoders) (24.2)\n",
            "Requirement already satisfied: six>=1.5 in /usr/local/lib/python3.11/dist-packages (from python-dateutil>=2.8.2->pandas>=1.0.5->category-encoders) (1.17.0)\n",
            "Downloading category_encoders-2.8.1-py3-none-any.whl (85 kB)\n",
            "\u001b[2K   \u001b[90m━━━━━━━━━━━━━━━━━━━━━━━━━━━━━━━━━━━━━━━━\u001b[0m \u001b[32m85.7/85.7 kB\u001b[0m \u001b[31m2.0 MB/s\u001b[0m eta \u001b[36m0:00:00\u001b[0m\n",
            "\u001b[?25hInstalling collected packages: category-encoders\n",
            "Successfully installed category-encoders-2.8.1\n"
          ]
        }
      ]
    },
    {
      "cell_type": "code",
      "execution_count": 2,
      "metadata": {
        "id": "_1oJON9-GgtC",
        "collapsed": true
      },
      "outputs": [],
      "source": [
        "import kagglehub"
      ]
    },
    {
      "cell_type": "code",
      "source": [
        "import numpy as np"
      ],
      "metadata": {
        "id": "n26OenocGuY2"
      },
      "execution_count": 3,
      "outputs": []
    },
    {
      "cell_type": "code",
      "source": [
        "import pandas as pd\n",
        "import seaborn as sns\n",
        "import matplotlib.pyplot as plt\n",
        "\n",
        "from datetime import datetime\n",
        "import os\n",
        "\n",
        "from sklearn.model_selection import StratifiedKFold\n",
        "from sklearn.model_selection import train_test_split\n",
        "from sklearn.metrics import mean_absolute_percentage_error\n",
        "from sklearn.metrics import mean_squared_log_error\n",
        "from sklearn.metrics import mean_absolute_error\n",
        "\n",
        "import lightgbm as lgb\n",
        "\n",
        "from category_encoders import TargetEncoder"
      ],
      "metadata": {
        "id": "nNioJTotG-N4"
      },
      "execution_count": 4,
      "outputs": []
    },
    {
      "cell_type": "code",
      "source": [
        "path = kagglehub.dataset_download(\"davidcariboo/player-scores\")\n",
        "games = pd.read_csv(f\"{path}/games.csv\")\n",
        "appearances = pd.read_csv(f\"{path}/appearances.csv\")\n",
        "players = pd.read_csv(f\"{path}/players.csv\")"
      ],
      "metadata": {
        "id": "vxUg51CRH9oI"
      },
      "execution_count": 5,
      "outputs": []
    },
    {
      "cell_type": "code",
      "source": [
        "players = players[players.market_value_in_eur.isnull() == False]"
      ],
      "metadata": {
        "id": "PfjF7bMGI5nX"
      },
      "execution_count": 6,
      "outputs": []
    },
    {
      "cell_type": "code",
      "source": [
        "games_and_aps = appearances.merge(games, on=[\"game_id\"], how=\"left\")\n",
        "\n",
        "def player_stats(season, df):\n",
        "    df = df.copy()\n",
        "\n",
        "    is_home = df['home_club_id'] == df['player_club_id']\n",
        "    is_away = df['away_club_id'] == df['player_club_id']\n",
        "\n",
        "    df[\"goals_for\"] = np.where(is_home, df['home_club_goals'],\n",
        "                               np.where(is_away, df['away_club_goals'], np.nan))\n",
        "\n",
        "    df[\"goals_against\"] = np.where(is_home, df['away_club_goals'],\n",
        "                               np.where(is_away, df['home_club_goals'], np.nan))\n",
        "\n",
        "    df[\"clean_sheet\"] = (df['goals_against'] == 0).astype(float)\n",
        "\n",
        "    df_all = df.groupby(['player_id'], as_index=False).agg({\n",
        "        'goals': 'sum',\n",
        "        'game_id': 'nunique',\n",
        "        'assists': 'sum',\n",
        "        'minutes_played': 'sum',\n",
        "        'goals_for': 'sum',\n",
        "        'goals_against': 'sum',\n",
        "        'clean_sheet': 'sum'\n",
        "    }).rename(columns={\n",
        "        'game_id': 'games',\n",
        "        'goals': 'goals_total',\n",
        "        'assists': 'assists_total',\n",
        "        'minutes_played': 'minutes_played_total',\n",
        "        'goals_for': 'goals_for_total',\n",
        "        'goals_against': 'goals_against_total',\n",
        "        'clean_sheet': 'clean_sheet_total'\n",
        "    })\n",
        "\n",
        "    df_season = df[df['season'] == season].groupby(['player_id'], as_index=False).agg({\n",
        "        'goals': 'sum',\n",
        "        'game_id': 'nunique',\n",
        "        'assists': 'sum',\n",
        "        'minutes_played': 'sum',\n",
        "        'goals_for': 'sum',\n",
        "        'goals_against': 'sum',\n",
        "        'clean_sheet': 'sum'\n",
        "    })\n",
        "\n",
        "    df_season = df_season.add_suffix(f'_{season}')\n",
        "    df_season = df_season.rename(columns={\n",
        "        f'player_id_{season}': 'player_id',\n",
        "        f'game_id_{season}': f'games_{season}'\n",
        "    })\n",
        "\n",
        "    stats = df_all.merge(df_season, on='player_id', how='left')\n",
        "    stats.fillna(0, inplace=True)\n",
        "\n",
        "    return stats"
      ],
      "metadata": {
        "id": "AGgwbES4J9-k"
      },
      "execution_count": 7,
      "outputs": []
    },
    {
      "cell_type": "code",
      "source": [
        "season = 2023\n",
        "stats = player_stats(season, games_and_aps)\n",
        "\n",
        "players = players.merge(stats, on='player_id', how='left')"
      ],
      "metadata": {
        "collapsed": true,
        "id": "u3twdnCRNPJ3"
      },
      "execution_count": 8,
      "outputs": []
    },
    {
      "cell_type": "code",
      "source": [
        "players['date_of_birth'] = pd.to_datetime(players['date_of_birth'])\n",
        "\n",
        "players = players[players['date_of_birth'].isnull() == False]\n",
        "now = datetime.now()\n",
        "players['age'] = (now - players['date_of_birth']).apply(lambda x: x.days) / 365.25\n",
        "players['age'] = players['age'].round().astype(int)\n",
        "\n",
        "players['contract_expiration_date'] = pd.to_datetime(players['contract_expiration_date'], errors='coerce')\n",
        "now = pd.Timestamp.now()\n",
        "players['days_to_expire'] = (players['contract_expiration_date'] - now).dt.days\n",
        "players['days_to_expire'] = players['days_to_expire'].clip(lower=0).fillna(0).astype(int)"
      ],
      "metadata": {
        "id": "St1kh8sAYcwo",
        "collapsed": true
      },
      "execution_count": null,
      "outputs": []
    },
    {
      "cell_type": "code",
      "source": [
        "players.shape"
      ],
      "metadata": {
        "colab": {
          "base_uri": "https://localhost:8080/"
        },
        "id": "Gu1kWtQvYnfm",
        "outputId": "149cbaa6-177d-4dcf-e93d-2206bd0917a7"
      },
      "execution_count": 10,
      "outputs": [
        {
          "output_type": "execute_result",
          "data": {
            "text/plain": [
              "(31046, 39)"
            ]
          },
          "metadata": {},
          "execution_count": 10
        }
      ]
    },
    {
      "cell_type": "code",
      "source": [
        "list(players)"
      ],
      "metadata": {
        "colab": {
          "base_uri": "https://localhost:8080/"
        },
        "id": "mpf2G_YJaUX0",
        "outputId": "e1484c49-5483-494b-fdd8-d52733959aab"
      },
      "execution_count": 11,
      "outputs": [
        {
          "output_type": "execute_result",
          "data": {
            "text/plain": [
              "['player_id',\n",
              " 'first_name',\n",
              " 'last_name',\n",
              " 'name',\n",
              " 'last_season',\n",
              " 'current_club_id',\n",
              " 'player_code',\n",
              " 'country_of_birth',\n",
              " 'city_of_birth',\n",
              " 'country_of_citizenship',\n",
              " 'date_of_birth',\n",
              " 'sub_position',\n",
              " 'position',\n",
              " 'foot',\n",
              " 'height_in_cm',\n",
              " 'contract_expiration_date',\n",
              " 'agent_name',\n",
              " 'image_url',\n",
              " 'url',\n",
              " 'current_club_domestic_competition_id',\n",
              " 'current_club_name',\n",
              " 'market_value_in_eur',\n",
              " 'highest_market_value_in_eur',\n",
              " 'goals_total',\n",
              " 'games',\n",
              " 'assists_total',\n",
              " 'minutes_played_total',\n",
              " 'goals_for_total',\n",
              " 'goals_against_total',\n",
              " 'clean_sheet_total',\n",
              " 'goals_2023',\n",
              " 'games_2023',\n",
              " 'assists_2023',\n",
              " 'minutes_played_2023',\n",
              " 'goals_for_2023',\n",
              " 'goals_against_2023',\n",
              " 'clean_sheet_2023',\n",
              " 'age',\n",
              " 'days_to_expire']"
            ]
          },
          "metadata": {},
          "execution_count": 11
        }
      ]
    },
    {
      "cell_type": "code",
      "source": [
        "players = players.drop(columns=['player_id', 'first_name', 'last_name', 'name', 'last_season',\n",
        "                      'player_code', 'city_of_birth', 'contract_expiration_date',\n",
        "                      'date_of_birth', 'agent_name', 'sub_position', 'image_url', 'url',\n",
        "                      'current_club_name', 'highest_market_value_in_eur'])"
      ],
      "metadata": {
        "id": "ObrMj-U5cAYU"
      },
      "execution_count": 12,
      "outputs": []
    },
    {
      "cell_type": "code",
      "source": [
        "players = players.rename(columns={\n",
        "    'current_club_domestic_competition_id': 'domestic_competition_id'\n",
        "    })"
      ],
      "metadata": {
        "id": "7gwAb12xhSSM"
      },
      "execution_count": 13,
      "outputs": []
    },
    {
      "cell_type": "code",
      "source": [
        "pd.set_option('display.max_columns', 500)\n",
        "players.head()"
      ],
      "metadata": {
        "colab": {
          "base_uri": "https://localhost:8080/",
          "height": 244
        },
        "id": "9t8dTer8hSRI",
        "outputId": "429998b4-38f0-48c6-efc1-112580765702"
      },
      "execution_count": 14,
      "outputs": [
        {
          "output_type": "execute_result",
          "data": {
            "text/plain": [
              "   current_club_id    country_of_birth country_of_citizenship    position  \\\n",
              "0              398              Poland                Germany      Attack   \n",
              "1               16             Germany                Germany  Goalkeeper   \n",
              "2             1091            Bulgaria               Bulgaria      Attack   \n",
              "3              506              Brazil                 Brazil    Defender   \n",
              "4               27  East Germany (GDR)                Germany  Goalkeeper   \n",
              "\n",
              "    foot  height_in_cm domestic_competition_id  market_value_in_eur  \\\n",
              "0  right         184.0                     IT1            1000000.0   \n",
              "1   left         190.0                      L1             750000.0   \n",
              "2    NaN           NaN                     GR1            1000000.0   \n",
              "3    NaN           NaN                     IT1             200000.0   \n",
              "4  right         194.0                      L1             100000.0   \n",
              "\n",
              "   goals_total  games  assists_total  minutes_played_total  goals_for_total  \\\n",
              "0         48.0  136.0           25.0                8808.0            212.0   \n",
              "1          0.0  152.0            0.0               13508.0            324.0   \n",
              "2         38.0  122.0           13.0                8788.0            140.0   \n",
              "3          0.0    4.0            0.0                 307.0             11.0   \n",
              "4          0.0   12.0            0.0                1080.0             31.0   \n",
              "\n",
              "   goals_against_total  clean_sheet_total  goals_2023  games_2023  \\\n",
              "0                153.0               50.0         0.0         0.0   \n",
              "1                189.0               41.0         0.0         0.0   \n",
              "2                145.0               41.0         0.0         0.0   \n",
              "3                  3.0                2.0         0.0         0.0   \n",
              "4                 12.0                8.0         0.0         0.0   \n",
              "\n",
              "   assists_2023  minutes_played_2023  goals_for_2023  goals_against_2023  \\\n",
              "0           0.0                  0.0             0.0                 0.0   \n",
              "1           0.0                  0.0             0.0                 0.0   \n",
              "2           0.0                  0.0             0.0                 0.0   \n",
              "3           0.0                  0.0             0.0                 0.0   \n",
              "4           0.0                  0.0             0.0                 0.0   \n",
              "\n",
              "   clean_sheet_2023  age  days_to_expire  \n",
              "0               0.0   47               0  \n",
              "1               0.0   45               0  \n",
              "2               0.0   44               0  \n",
              "3               0.0   47               0  \n",
              "4               0.0   44               0  "
            ],
            "text/html": [
              "\n",
              "  <div id=\"df-94c445f5-c06a-41e2-8ef4-3922356a059f\" class=\"colab-df-container\">\n",
              "    <div>\n",
              "<style scoped>\n",
              "    .dataframe tbody tr th:only-of-type {\n",
              "        vertical-align: middle;\n",
              "    }\n",
              "\n",
              "    .dataframe tbody tr th {\n",
              "        vertical-align: top;\n",
              "    }\n",
              "\n",
              "    .dataframe thead th {\n",
              "        text-align: right;\n",
              "    }\n",
              "</style>\n",
              "<table border=\"1\" class=\"dataframe\">\n",
              "  <thead>\n",
              "    <tr style=\"text-align: right;\">\n",
              "      <th></th>\n",
              "      <th>current_club_id</th>\n",
              "      <th>country_of_birth</th>\n",
              "      <th>country_of_citizenship</th>\n",
              "      <th>position</th>\n",
              "      <th>foot</th>\n",
              "      <th>height_in_cm</th>\n",
              "      <th>domestic_competition_id</th>\n",
              "      <th>market_value_in_eur</th>\n",
              "      <th>goals_total</th>\n",
              "      <th>games</th>\n",
              "      <th>assists_total</th>\n",
              "      <th>minutes_played_total</th>\n",
              "      <th>goals_for_total</th>\n",
              "      <th>goals_against_total</th>\n",
              "      <th>clean_sheet_total</th>\n",
              "      <th>goals_2023</th>\n",
              "      <th>games_2023</th>\n",
              "      <th>assists_2023</th>\n",
              "      <th>minutes_played_2023</th>\n",
              "      <th>goals_for_2023</th>\n",
              "      <th>goals_against_2023</th>\n",
              "      <th>clean_sheet_2023</th>\n",
              "      <th>age</th>\n",
              "      <th>days_to_expire</th>\n",
              "    </tr>\n",
              "  </thead>\n",
              "  <tbody>\n",
              "    <tr>\n",
              "      <th>0</th>\n",
              "      <td>398</td>\n",
              "      <td>Poland</td>\n",
              "      <td>Germany</td>\n",
              "      <td>Attack</td>\n",
              "      <td>right</td>\n",
              "      <td>184.0</td>\n",
              "      <td>IT1</td>\n",
              "      <td>1000000.0</td>\n",
              "      <td>48.0</td>\n",
              "      <td>136.0</td>\n",
              "      <td>25.0</td>\n",
              "      <td>8808.0</td>\n",
              "      <td>212.0</td>\n",
              "      <td>153.0</td>\n",
              "      <td>50.0</td>\n",
              "      <td>0.0</td>\n",
              "      <td>0.0</td>\n",
              "      <td>0.0</td>\n",
              "      <td>0.0</td>\n",
              "      <td>0.0</td>\n",
              "      <td>0.0</td>\n",
              "      <td>0.0</td>\n",
              "      <td>47</td>\n",
              "      <td>0</td>\n",
              "    </tr>\n",
              "    <tr>\n",
              "      <th>1</th>\n",
              "      <td>16</td>\n",
              "      <td>Germany</td>\n",
              "      <td>Germany</td>\n",
              "      <td>Goalkeeper</td>\n",
              "      <td>left</td>\n",
              "      <td>190.0</td>\n",
              "      <td>L1</td>\n",
              "      <td>750000.0</td>\n",
              "      <td>0.0</td>\n",
              "      <td>152.0</td>\n",
              "      <td>0.0</td>\n",
              "      <td>13508.0</td>\n",
              "      <td>324.0</td>\n",
              "      <td>189.0</td>\n",
              "      <td>41.0</td>\n",
              "      <td>0.0</td>\n",
              "      <td>0.0</td>\n",
              "      <td>0.0</td>\n",
              "      <td>0.0</td>\n",
              "      <td>0.0</td>\n",
              "      <td>0.0</td>\n",
              "      <td>0.0</td>\n",
              "      <td>45</td>\n",
              "      <td>0</td>\n",
              "    </tr>\n",
              "    <tr>\n",
              "      <th>2</th>\n",
              "      <td>1091</td>\n",
              "      <td>Bulgaria</td>\n",
              "      <td>Bulgaria</td>\n",
              "      <td>Attack</td>\n",
              "      <td>NaN</td>\n",
              "      <td>NaN</td>\n",
              "      <td>GR1</td>\n",
              "      <td>1000000.0</td>\n",
              "      <td>38.0</td>\n",
              "      <td>122.0</td>\n",
              "      <td>13.0</td>\n",
              "      <td>8788.0</td>\n",
              "      <td>140.0</td>\n",
              "      <td>145.0</td>\n",
              "      <td>41.0</td>\n",
              "      <td>0.0</td>\n",
              "      <td>0.0</td>\n",
              "      <td>0.0</td>\n",
              "      <td>0.0</td>\n",
              "      <td>0.0</td>\n",
              "      <td>0.0</td>\n",
              "      <td>0.0</td>\n",
              "      <td>44</td>\n",
              "      <td>0</td>\n",
              "    </tr>\n",
              "    <tr>\n",
              "      <th>3</th>\n",
              "      <td>506</td>\n",
              "      <td>Brazil</td>\n",
              "      <td>Brazil</td>\n",
              "      <td>Defender</td>\n",
              "      <td>NaN</td>\n",
              "      <td>NaN</td>\n",
              "      <td>IT1</td>\n",
              "      <td>200000.0</td>\n",
              "      <td>0.0</td>\n",
              "      <td>4.0</td>\n",
              "      <td>0.0</td>\n",
              "      <td>307.0</td>\n",
              "      <td>11.0</td>\n",
              "      <td>3.0</td>\n",
              "      <td>2.0</td>\n",
              "      <td>0.0</td>\n",
              "      <td>0.0</td>\n",
              "      <td>0.0</td>\n",
              "      <td>0.0</td>\n",
              "      <td>0.0</td>\n",
              "      <td>0.0</td>\n",
              "      <td>0.0</td>\n",
              "      <td>47</td>\n",
              "      <td>0</td>\n",
              "    </tr>\n",
              "    <tr>\n",
              "      <th>4</th>\n",
              "      <td>27</td>\n",
              "      <td>East Germany (GDR)</td>\n",
              "      <td>Germany</td>\n",
              "      <td>Goalkeeper</td>\n",
              "      <td>right</td>\n",
              "      <td>194.0</td>\n",
              "      <td>L1</td>\n",
              "      <td>100000.0</td>\n",
              "      <td>0.0</td>\n",
              "      <td>12.0</td>\n",
              "      <td>0.0</td>\n",
              "      <td>1080.0</td>\n",
              "      <td>31.0</td>\n",
              "      <td>12.0</td>\n",
              "      <td>8.0</td>\n",
              "      <td>0.0</td>\n",
              "      <td>0.0</td>\n",
              "      <td>0.0</td>\n",
              "      <td>0.0</td>\n",
              "      <td>0.0</td>\n",
              "      <td>0.0</td>\n",
              "      <td>0.0</td>\n",
              "      <td>44</td>\n",
              "      <td>0</td>\n",
              "    </tr>\n",
              "  </tbody>\n",
              "</table>\n",
              "</div>\n",
              "    <div class=\"colab-df-buttons\">\n",
              "\n",
              "  <div class=\"colab-df-container\">\n",
              "    <button class=\"colab-df-convert\" onclick=\"convertToInteractive('df-94c445f5-c06a-41e2-8ef4-3922356a059f')\"\n",
              "            title=\"Convert this dataframe to an interactive table.\"\n",
              "            style=\"display:none;\">\n",
              "\n",
              "  <svg xmlns=\"http://www.w3.org/2000/svg\" height=\"24px\" viewBox=\"0 -960 960 960\">\n",
              "    <path d=\"M120-120v-720h720v720H120Zm60-500h600v-160H180v160Zm220 220h160v-160H400v160Zm0 220h160v-160H400v160ZM180-400h160v-160H180v160Zm440 0h160v-160H620v160ZM180-180h160v-160H180v160Zm440 0h160v-160H620v160Z\"/>\n",
              "  </svg>\n",
              "    </button>\n",
              "\n",
              "  <style>\n",
              "    .colab-df-container {\n",
              "      display:flex;\n",
              "      gap: 12px;\n",
              "    }\n",
              "\n",
              "    .colab-df-convert {\n",
              "      background-color: #E8F0FE;\n",
              "      border: none;\n",
              "      border-radius: 50%;\n",
              "      cursor: pointer;\n",
              "      display: none;\n",
              "      fill: #1967D2;\n",
              "      height: 32px;\n",
              "      padding: 0 0 0 0;\n",
              "      width: 32px;\n",
              "    }\n",
              "\n",
              "    .colab-df-convert:hover {\n",
              "      background-color: #E2EBFA;\n",
              "      box-shadow: 0px 1px 2px rgba(60, 64, 67, 0.3), 0px 1px 3px 1px rgba(60, 64, 67, 0.15);\n",
              "      fill: #174EA6;\n",
              "    }\n",
              "\n",
              "    .colab-df-buttons div {\n",
              "      margin-bottom: 4px;\n",
              "    }\n",
              "\n",
              "    [theme=dark] .colab-df-convert {\n",
              "      background-color: #3B4455;\n",
              "      fill: #D2E3FC;\n",
              "    }\n",
              "\n",
              "    [theme=dark] .colab-df-convert:hover {\n",
              "      background-color: #434B5C;\n",
              "      box-shadow: 0px 1px 3px 1px rgba(0, 0, 0, 0.15);\n",
              "      filter: drop-shadow(0px 1px 2px rgba(0, 0, 0, 0.3));\n",
              "      fill: #FFFFFF;\n",
              "    }\n",
              "  </style>\n",
              "\n",
              "    <script>\n",
              "      const buttonEl =\n",
              "        document.querySelector('#df-94c445f5-c06a-41e2-8ef4-3922356a059f button.colab-df-convert');\n",
              "      buttonEl.style.display =\n",
              "        google.colab.kernel.accessAllowed ? 'block' : 'none';\n",
              "\n",
              "      async function convertToInteractive(key) {\n",
              "        const element = document.querySelector('#df-94c445f5-c06a-41e2-8ef4-3922356a059f');\n",
              "        const dataTable =\n",
              "          await google.colab.kernel.invokeFunction('convertToInteractive',\n",
              "                                                    [key], {});\n",
              "        if (!dataTable) return;\n",
              "\n",
              "        const docLinkHtml = 'Like what you see? Visit the ' +\n",
              "          '<a target=\"_blank\" href=https://colab.research.google.com/notebooks/data_table.ipynb>data table notebook</a>'\n",
              "          + ' to learn more about interactive tables.';\n",
              "        element.innerHTML = '';\n",
              "        dataTable['output_type'] = 'display_data';\n",
              "        await google.colab.output.renderOutput(dataTable, element);\n",
              "        const docLink = document.createElement('div');\n",
              "        docLink.innerHTML = docLinkHtml;\n",
              "        element.appendChild(docLink);\n",
              "      }\n",
              "    </script>\n",
              "  </div>\n",
              "\n",
              "\n",
              "<div id=\"df-6291de22-27ca-4b76-aa5b-72fc1c88586e\">\n",
              "  <button class=\"colab-df-quickchart\" onclick=\"quickchart('df-6291de22-27ca-4b76-aa5b-72fc1c88586e')\"\n",
              "            title=\"Suggest charts\"\n",
              "            style=\"display:none;\">\n",
              "\n",
              "<svg xmlns=\"http://www.w3.org/2000/svg\" height=\"24px\"viewBox=\"0 0 24 24\"\n",
              "     width=\"24px\">\n",
              "    <g>\n",
              "        <path d=\"M19 3H5c-1.1 0-2 .9-2 2v14c0 1.1.9 2 2 2h14c1.1 0 2-.9 2-2V5c0-1.1-.9-2-2-2zM9 17H7v-7h2v7zm4 0h-2V7h2v10zm4 0h-2v-4h2v4z\"/>\n",
              "    </g>\n",
              "</svg>\n",
              "  </button>\n",
              "\n",
              "<style>\n",
              "  .colab-df-quickchart {\n",
              "      --bg-color: #E8F0FE;\n",
              "      --fill-color: #1967D2;\n",
              "      --hover-bg-color: #E2EBFA;\n",
              "      --hover-fill-color: #174EA6;\n",
              "      --disabled-fill-color: #AAA;\n",
              "      --disabled-bg-color: #DDD;\n",
              "  }\n",
              "\n",
              "  [theme=dark] .colab-df-quickchart {\n",
              "      --bg-color: #3B4455;\n",
              "      --fill-color: #D2E3FC;\n",
              "      --hover-bg-color: #434B5C;\n",
              "      --hover-fill-color: #FFFFFF;\n",
              "      --disabled-bg-color: #3B4455;\n",
              "      --disabled-fill-color: #666;\n",
              "  }\n",
              "\n",
              "  .colab-df-quickchart {\n",
              "    background-color: var(--bg-color);\n",
              "    border: none;\n",
              "    border-radius: 50%;\n",
              "    cursor: pointer;\n",
              "    display: none;\n",
              "    fill: var(--fill-color);\n",
              "    height: 32px;\n",
              "    padding: 0;\n",
              "    width: 32px;\n",
              "  }\n",
              "\n",
              "  .colab-df-quickchart:hover {\n",
              "    background-color: var(--hover-bg-color);\n",
              "    box-shadow: 0 1px 2px rgba(60, 64, 67, 0.3), 0 1px 3px 1px rgba(60, 64, 67, 0.15);\n",
              "    fill: var(--button-hover-fill-color);\n",
              "  }\n",
              "\n",
              "  .colab-df-quickchart-complete:disabled,\n",
              "  .colab-df-quickchart-complete:disabled:hover {\n",
              "    background-color: var(--disabled-bg-color);\n",
              "    fill: var(--disabled-fill-color);\n",
              "    box-shadow: none;\n",
              "  }\n",
              "\n",
              "  .colab-df-spinner {\n",
              "    border: 2px solid var(--fill-color);\n",
              "    border-color: transparent;\n",
              "    border-bottom-color: var(--fill-color);\n",
              "    animation:\n",
              "      spin 1s steps(1) infinite;\n",
              "  }\n",
              "\n",
              "  @keyframes spin {\n",
              "    0% {\n",
              "      border-color: transparent;\n",
              "      border-bottom-color: var(--fill-color);\n",
              "      border-left-color: var(--fill-color);\n",
              "    }\n",
              "    20% {\n",
              "      border-color: transparent;\n",
              "      border-left-color: var(--fill-color);\n",
              "      border-top-color: var(--fill-color);\n",
              "    }\n",
              "    30% {\n",
              "      border-color: transparent;\n",
              "      border-left-color: var(--fill-color);\n",
              "      border-top-color: var(--fill-color);\n",
              "      border-right-color: var(--fill-color);\n",
              "    }\n",
              "    40% {\n",
              "      border-color: transparent;\n",
              "      border-right-color: var(--fill-color);\n",
              "      border-top-color: var(--fill-color);\n",
              "    }\n",
              "    60% {\n",
              "      border-color: transparent;\n",
              "      border-right-color: var(--fill-color);\n",
              "    }\n",
              "    80% {\n",
              "      border-color: transparent;\n",
              "      border-right-color: var(--fill-color);\n",
              "      border-bottom-color: var(--fill-color);\n",
              "    }\n",
              "    90% {\n",
              "      border-color: transparent;\n",
              "      border-bottom-color: var(--fill-color);\n",
              "    }\n",
              "  }\n",
              "</style>\n",
              "\n",
              "  <script>\n",
              "    async function quickchart(key) {\n",
              "      const quickchartButtonEl =\n",
              "        document.querySelector('#' + key + ' button');\n",
              "      quickchartButtonEl.disabled = true;  // To prevent multiple clicks.\n",
              "      quickchartButtonEl.classList.add('colab-df-spinner');\n",
              "      try {\n",
              "        const charts = await google.colab.kernel.invokeFunction(\n",
              "            'suggestCharts', [key], {});\n",
              "      } catch (error) {\n",
              "        console.error('Error during call to suggestCharts:', error);\n",
              "      }\n",
              "      quickchartButtonEl.classList.remove('colab-df-spinner');\n",
              "      quickchartButtonEl.classList.add('colab-df-quickchart-complete');\n",
              "    }\n",
              "    (() => {\n",
              "      let quickchartButtonEl =\n",
              "        document.querySelector('#df-6291de22-27ca-4b76-aa5b-72fc1c88586e button');\n",
              "      quickchartButtonEl.style.display =\n",
              "        google.colab.kernel.accessAllowed ? 'block' : 'none';\n",
              "    })();\n",
              "  </script>\n",
              "</div>\n",
              "    </div>\n",
              "  </div>\n"
            ],
            "application/vnd.google.colaboratory.intrinsic+json": {
              "type": "dataframe",
              "variable_name": "players"
            }
          },
          "metadata": {},
          "execution_count": 14
        }
      ]
    },
    {
      "cell_type": "code",
      "source": [
        "players.shape"
      ],
      "metadata": {
        "colab": {
          "base_uri": "https://localhost:8080/"
        },
        "id": "dXqzMGjclviA",
        "outputId": "aa48a9bc-d5f3-4ad8-cbcb-04140ba8e369"
      },
      "execution_count": 15,
      "outputs": [
        {
          "output_type": "execute_result",
          "data": {
            "text/plain": [
              "(31046, 24)"
            ]
          },
          "metadata": {},
          "execution_count": 15
        }
      ]
    },
    {
      "cell_type": "markdown",
      "source": [
        "Здесь дропаем две фичи из-за около нулевого feature-importance (код для важности фич в комментариях внутри цикла по фолдам)"
      ],
      "metadata": {
        "id": "SJlz84w2beq-"
      }
    },
    {
      "cell_type": "code",
      "source": [
        "players = pd.get_dummies(players, columns=['position'])\n",
        "players = pd.get_dummies(players, columns=['foot'])\n",
        "\n",
        "players = players.drop(columns=['position_Midfield', 'position_Missing'])"
      ],
      "metadata": {
        "id": "sIdW2dIwMe2h"
      },
      "execution_count": 16,
      "outputs": []
    },
    {
      "cell_type": "code",
      "source": [
        "top_n = 30\n",
        "for col in ['country_of_citizenship', 'country_of_birth']:\n",
        "    top_categories = players[col].value_counts().nlargest(top_n).index\n",
        "    players[col] = players[col].where(players[col].isin(top_categories), 'Other')\n",
        "\n",
        "train, test = train_test_split(players, test_size=0.2, random_state=50)\n",
        "\n",
        "q_hi = train['market_value_in_eur'].quantile(0.99)\n",
        "q_lo = train['market_value_in_eur'].quantile(0.05)\n",
        "train = train[(train['market_value_in_eur'] >= q_lo) & (train['market_value_in_eur'] <= q_hi)]\n",
        "\n",
        "train['market_value_in_eur'] = np.log1p(train['market_value_in_eur'])\n",
        "\n",
        "targets = train['market_value_in_eur'].values"
      ],
      "metadata": {
        "collapsed": true,
        "id": "MSRX9sgWW-OW"
      },
      "execution_count": 17,
      "outputs": []
    },
    {
      "cell_type": "markdown",
      "source": [
        "LGBM, в отличие от CatBoost, не так хорошо работает с категориальными фичами \"из коробки\". По этой причине все, что мы еще не заэнкодили OHE, мы будем таргет-энкодить - это приносит хорошие результаты и оправдано, учитывая сильное влияние фичей на таргет и большое количество уникальных значений."
      ],
      "metadata": {
        "id": "QTvQSH_6b0aW"
      }
    },
    {
      "cell_type": "markdown",
      "source": [
        "За лосс возьмем Tweedie. Он устойчив к выбросам, которых в этом датасете очень много."
      ],
      "metadata": {
        "id": "EhoMuaeKcUeL"
      }
    },
    {
      "cell_type": "markdown",
      "source": [
        "TargetEncoder'ы делаем собственные для каждого фолда и каждой фичи, чтобы избежать утечки данных из таргета и переобучения модели."
      ],
      "metadata": {
        "id": "6xE434JDcgt4"
      }
    },
    {
      "cell_type": "code",
      "source": [
        "bins = pd.qcut(train['market_value_in_eur'], q=5, labels=False)\n",
        "cv = StratifiedKFold(n_splits=5, random_state=100, shuffle=True)\n",
        "trained = np.zeros(len(train))\n",
        "oof = np.zeros(len(train))\n",
        "\n",
        "tested = np.zeros(len(test))\n",
        "\n",
        "model_parameters = {\n",
        "    'objective': 'tweedie',\n",
        "    'tweedie_variance_power': 1.3,\n",
        "    'n_estimators': 200,\n",
        "    'verbose': -1,\n",
        "    'reg_alpha': 0.1,\n",
        "    'reg_lambda': 0.1,\n",
        "    'num_leaves': 26,\n",
        "    'early_stopping_rounds': 23,\n",
        "}\n",
        "\n",
        "for fold_, (train_idx, val_idx) in enumerate(cv.split(train, bins), 1):\n",
        "    print(f'Training with fold {fold_} started')\n",
        "\n",
        "    lgb_model = lgb.LGBMRegressor(**model_parameters)\n",
        "\n",
        "    train_, val = train.iloc[train_idx].copy(), train.iloc[val_idx].copy()\n",
        "\n",
        "    feat_cols = list(train.columns.values)\n",
        "    feat_cols.remove('market_value_in_eur')\n",
        "\n",
        "    te_club = TargetEncoder(cols=['current_club_id'], smoothing=10)\n",
        "    train_[['current_club_id']] = te_club.fit_transform(train_[['current_club_id']], train_['market_value_in_eur'])\n",
        "    val['current_club_id'] = te_club.transform(val[['current_club_id']])\n",
        "\n",
        "    te_com = TargetEncoder(cols=['domestic_competition_id'], smoothing=10)\n",
        "    train_[['domestic_competition_id']] = te_com.fit_transform(train_[['domestic_competition_id']], train_['market_value_in_eur'])\n",
        "    val['domestic_competition_id'] = te_com.transform(val[['domestic_competition_id']])\n",
        "\n",
        "    te_state = TargetEncoder(cols=['country_of_citizenship'], smoothing=10)\n",
        "    train_[['country_of_citizenship']] = te_state.fit_transform(train_[['country_of_citizenship']], train_['market_value_in_eur'])\n",
        "    val['country_of_citizenship'] = te_state.transform(val[['country_of_citizenship']])\n",
        "\n",
        "    te_birth = TargetEncoder(cols=['country_of_birth'], smoothing=10)\n",
        "    train_[['country_of_birth']] = te_birth.fit_transform(train_[['country_of_birth']], train_['market_value_in_eur'])\n",
        "    val['country_of_birth'] = te_birth.transform(val[['country_of_birth']])\n",
        "\n",
        "    lgb_model.fit(train_[feat_cols], train_['market_value_in_eur'],\n",
        "                  eval_set=[(val[feat_cols], val['market_value_in_eur'])],\n",
        "                  eval_metric=['huber'])\n",
        "    '''\n",
        "    model.fit(train[feat_cols], train['market_value_in_eur'],\n",
        "          eval_set=(val[feat_cols], val['market_value_in_eur']),\n",
        "          early_stopping_rounds=50)\n",
        "    '''\n",
        "\n",
        "    trained[train_idx] = lgb_model.predict(train_[feat_cols])\n",
        "\n",
        "    oof[val_idx] = lgb_model.predict(val[feat_cols])\n",
        "\n",
        "    #for feat, importance in zip(train.columns, lgb_model.feature_importances_):\n",
        "    #  print(f'feature: {feat}, importance: {importance}')\n",
        "    #print('\\n')\n",
        "\n",
        "    #models.append(lgb_model)\n",
        "\n",
        "    #print(f'Training with fold {fold_} completed\\n')\n",
        "\n",
        "true = np.expm1(targets)\n",
        "pred = np.expm1(trained)\n",
        "pred_oof = np.expm1(oof)\n",
        "\n",
        "rmsle = mean_squared_log_error(true, pred) ** 0.5\n",
        "rmsle_oof = mean_squared_log_error(true, pred_oof) ** 0.5\n",
        "\n",
        "print('Train MAE: ', mean_absolute_error(true, pred))\n",
        "print('CV MAE: ', mean_absolute_error(true, pred_oof), '\\n')\n",
        "print('Train MAPE: ', mean_absolute_percentage_error(true, pred))\n",
        "print('CV MAPE: ', mean_absolute_percentage_error(true, pred_oof), '\\n')\n",
        "print('TRAIN RMSLE: ', rmsle)\n",
        "print('CV RMSLE: ', rmsle_oof)\n",
        "\n",
        "val_df = pd.DataFrame({\n",
        "    'true': true,\n",
        "    'pred': pred_oof\n",
        "})\n",
        "\n",
        "\n",
        "val_df['quantile'] = pd.qcut(val_df['true'], q=5)\n",
        "\n",
        "for q, group in val_df.groupby('quantile'):\n",
        "    print(f\"\\n{q}:\")\n",
        "    print(\"  MAE: \", mean_absolute_error(group['true'], group['pred']))\n",
        "    print(\"  MAPE:\", mean_absolute_percentage_error(group['true'], group['pred']))"
      ],
      "metadata": {
        "colab": {
          "base_uri": "https://localhost:8080/"
        },
        "id": "6qmrPjG3SFln",
        "outputId": "b71371ff-59cb-49ab-a8cd-1894cf6d7be5"
      },
      "execution_count": 18,
      "outputs": [
        {
          "output_type": "stream",
          "name": "stdout",
          "text": [
            "Training with fold 1 started\n",
            "Training with fold 2 started\n",
            "Training with fold 3 started\n",
            "Training with fold 4 started\n",
            "Training with fold 5 started\n",
            "Train MAE:  463712.8248257569\n",
            "CV MAE:  579707.792547966 \n",
            "\n",
            "Train MAPE:  0.5208532708440574\n",
            "CV MAPE:  0.6350068769666887 \n",
            "\n",
            "TRAIN RMSLE:  0.6023520151980167\n",
            "CV RMSLE:  0.7031266601093429\n",
            "\n",
            "(49999.999, 100000.0]:\n",
            "  MAE:  77414.5771713096\n",
            "  MAPE: 1.1451627958554622\n",
            "\n",
            "(100000.0, 200000.0]:\n",
            "  MAE:  74465.7951559533\n",
            "  MAPE: 0.43733734253797246\n",
            "\n",
            "(200000.0, 350000.0]:\n",
            "  MAE:  126277.29422144573\n",
            "  MAPE: 0.4357198433316469\n",
            "\n",
            "(350000.0, 1000000.0]:\n",
            "  MAE:  330283.75758527074\n",
            "  MAPE: 0.5114406513173796\n",
            "\n",
            "(1000000.0, 30000000.0]:\n",
            "  MAE:  2550455.9785118834\n",
            "  MAPE: 0.49731601074150045\n"
          ]
        },
        {
          "output_type": "stream",
          "name": "stderr",
          "text": [
            "<ipython-input-18-5225666e554f>:88: FutureWarning: The default of observed=False is deprecated and will be changed to True in a future version of pandas. Pass observed=False to retain current behavior or observed=True to adopt the future default and silence this warning.\n",
            "  for q, group in val_df.groupby('quantile'):\n"
          ]
        }
      ]
    }
  ]
}